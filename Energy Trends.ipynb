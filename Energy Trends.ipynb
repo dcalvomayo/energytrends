{
 "cells": [
  {
   "cell_type": "markdown",
   "id": "d1fcbe37",
   "metadata": {},
   "source": [
    "# Energy Trends"
   ]
  },
  {
   "cell_type": "markdown",
   "id": "ea2c3913",
   "metadata": {},
   "source": [
    "In this notebook a study on global trends on electricity generation is performed. In particular the following questions are addressed:\n",
    "1. What are the trends on electricity generation in the last decades?\n",
    "2. What are the countries that have increased the most wind energy production?\n",
    "3. What are the countries that have decreased, and increased, the most nuclear production?\n",
    "3. What are the countries that have decreased, and increased, the most thermal production?\n",
    "5. In what way population, and CO2 markets affect a transition to renewable energy?\n",
    "\n",
    "The data was obtained from two different sources:\n",
    "- Energy data from [UNdata](data.un.org).\n",
    "- Population data from [The World Bank Databank](databank.worldbank.org)."
   ]
  },
  {
   "cell_type": "markdown",
   "id": "853287f7",
   "metadata": {},
   "source": [
    "First we import all the necessary packages and read the energy data. We will need:\n",
    "- Numpy and pandas for data wrangling.\n",
    "- Matplotlib for visualizations.\n",
    "- Sklearn to create a model."
   ]
  },
  {
   "cell_type": "code",
   "execution_count": 67,
   "id": "c1bb071c",
   "metadata": {},
   "outputs": [],
   "source": [
    "import numpy as np\n",
    "import pandas as pd\n",
    "import matplotlib.pyplot as plt \n",
    "from sklearn.linear_model import LinearRegression\n",
    "from sklearn.model_selection import train_test_split\n",
    "from sklearn.metrics import r2_score, mean_squared_error\n",
    "\n",
    "#Graphs will be displayed in the notebook with this command\n",
    "%matplotlib inline\n",
    "\n",
    "df = pd.read_csv('./all_energy_statistics.csv')\n"
   ]
  },
  {
   "cell_type": "markdown",
   "id": "5afe08fe",
   "metadata": {},
   "source": [
    "## First step: Data understanding"
   ]
  },
  {
   "cell_type": "markdown",
   "id": "80d73820",
   "metadata": {},
   "source": [
    "Let's start by taking a look at the dataframe first rows."
   ]
  },
  {
   "cell_type": "code",
   "execution_count": 68,
   "id": "614ad869",
   "metadata": {},
   "outputs": [
    {
     "data": {
      "text/html": [
       "<div>\n",
       "<style scoped>\n",
       "    .dataframe tbody tr th:only-of-type {\n",
       "        vertical-align: middle;\n",
       "    }\n",
       "\n",
       "    .dataframe tbody tr th {\n",
       "        vertical-align: top;\n",
       "    }\n",
       "\n",
       "    .dataframe thead th {\n",
       "        text-align: right;\n",
       "    }\n",
       "</style>\n",
       "<table border=\"1\" class=\"dataframe\">\n",
       "  <thead>\n",
       "    <tr style=\"text-align: right;\">\n",
       "      <th></th>\n",
       "      <th>country_or_area</th>\n",
       "      <th>commodity_transaction</th>\n",
       "      <th>year</th>\n",
       "      <th>unit</th>\n",
       "      <th>quantity</th>\n",
       "      <th>quantity_footnotes</th>\n",
       "      <th>category</th>\n",
       "    </tr>\n",
       "  </thead>\n",
       "  <tbody>\n",
       "    <tr>\n",
       "      <th>0</th>\n",
       "      <td>Austria</td>\n",
       "      <td>Additives and Oxygenates - Exports</td>\n",
       "      <td>1996</td>\n",
       "      <td>Metric tons,  thousand</td>\n",
       "      <td>5.0</td>\n",
       "      <td>NaN</td>\n",
       "      <td>additives_and_oxygenates</td>\n",
       "    </tr>\n",
       "    <tr>\n",
       "      <th>1</th>\n",
       "      <td>Austria</td>\n",
       "      <td>Additives and Oxygenates - Exports</td>\n",
       "      <td>1995</td>\n",
       "      <td>Metric tons,  thousand</td>\n",
       "      <td>17.0</td>\n",
       "      <td>NaN</td>\n",
       "      <td>additives_and_oxygenates</td>\n",
       "    </tr>\n",
       "    <tr>\n",
       "      <th>2</th>\n",
       "      <td>Belgium</td>\n",
       "      <td>Additives and Oxygenates - Exports</td>\n",
       "      <td>2014</td>\n",
       "      <td>Metric tons,  thousand</td>\n",
       "      <td>0.0</td>\n",
       "      <td>NaN</td>\n",
       "      <td>additives_and_oxygenates</td>\n",
       "    </tr>\n",
       "    <tr>\n",
       "      <th>3</th>\n",
       "      <td>Belgium</td>\n",
       "      <td>Additives and Oxygenates - Exports</td>\n",
       "      <td>2013</td>\n",
       "      <td>Metric tons,  thousand</td>\n",
       "      <td>0.0</td>\n",
       "      <td>NaN</td>\n",
       "      <td>additives_and_oxygenates</td>\n",
       "    </tr>\n",
       "    <tr>\n",
       "      <th>4</th>\n",
       "      <td>Belgium</td>\n",
       "      <td>Additives and Oxygenates - Exports</td>\n",
       "      <td>2012</td>\n",
       "      <td>Metric tons,  thousand</td>\n",
       "      <td>35.0</td>\n",
       "      <td>NaN</td>\n",
       "      <td>additives_and_oxygenates</td>\n",
       "    </tr>\n",
       "  </tbody>\n",
       "</table>\n",
       "</div>"
      ],
      "text/plain": [
       "  country_or_area               commodity_transaction  year  \\\n",
       "0         Austria  Additives and Oxygenates - Exports  1996   \n",
       "1         Austria  Additives and Oxygenates - Exports  1995   \n",
       "2         Belgium  Additives and Oxygenates - Exports  2014   \n",
       "3         Belgium  Additives and Oxygenates - Exports  2013   \n",
       "4         Belgium  Additives and Oxygenates - Exports  2012   \n",
       "\n",
       "                     unit  quantity  quantity_footnotes  \\\n",
       "0  Metric tons,  thousand       5.0                 NaN   \n",
       "1  Metric tons,  thousand      17.0                 NaN   \n",
       "2  Metric tons,  thousand       0.0                 NaN   \n",
       "3  Metric tons,  thousand       0.0                 NaN   \n",
       "4  Metric tons,  thousand      35.0                 NaN   \n",
       "\n",
       "                   category  \n",
       "0  additives_and_oxygenates  \n",
       "1  additives_and_oxygenates  \n",
       "2  additives_and_oxygenates  \n",
       "3  additives_and_oxygenates  \n",
       "4  additives_and_oxygenates  "
      ]
     },
     "execution_count": 68,
     "metadata": {},
     "output_type": "execute_result"
    }
   ],
   "source": [
    "df.head()"
   ]
  },
  {
   "cell_type": "markdown",
   "id": "88be4da6",
   "metadata": {},
   "source": [
    "We see that we have only 7 columns, of which most of them are categorical. Let's see how many unique values there are for commodity transactions."
   ]
  },
  {
   "cell_type": "code",
   "execution_count": 69,
   "id": "8579555e",
   "metadata": {},
   "outputs": [
    {
     "data": {
      "text/plain": [
       "(2452,)"
      ]
     },
     "execution_count": 69,
     "metadata": {},
     "output_type": "execute_result"
    }
   ],
   "source": [
    "unique_transactions = df[\"commodity_transaction\"].unique()\n",
    "unique_transactions.shape\n"
   ]
  },
  {
   "cell_type": "markdown",
   "id": "62a30f5c",
   "metadata": {},
   "source": [
    "That's a huge number of different values! Perhaps we can take a look at the number of unique values at \"category\"."
   ]
  },
  {
   "cell_type": "code",
   "execution_count": 70,
   "id": "2421d677",
   "metadata": {},
   "outputs": [
    {
     "data": {
      "text/plain": [
       "(71,)"
      ]
     },
     "execution_count": 70,
     "metadata": {},
     "output_type": "execute_result"
    }
   ],
   "source": [
    "unique_categories = df[\"category\"].unique()\n",
    "unique_categories.shape"
   ]
  },
  {
   "cell_type": "markdown",
   "id": "2d326c7f",
   "metadata": {},
   "source": [
    "Ok, that's still a big number, but much more manageable. So let's see how those values look like:"
   ]
  },
  {
   "cell_type": "code",
   "execution_count": 71,
   "id": "9f03fe0a",
   "metadata": {},
   "outputs": [
    {
     "data": {
      "text/plain": [
       "array(['additives_and_oxygenates', 'animal_waste', 'anthracite',\n",
       "       'aviation_gasoline', 'bagasse', 'biodiesel', 'biogases',\n",
       "       'biogasoline', 'bitumen', 'black_liquor', 'blast_furnace_gas',\n",
       "       'brown_coal_briquettes', 'brown_coal', 'charcoal', 'coal_tar',\n",
       "       'coke_oven_coke', 'coking_coal', 'conventional_crude_oil',\n",
       "       'direct_use_of_geothermal_heat',\n",
       "       'direct_use_of_solar_thermal_heat',\n",
       "       'electricity_net_installed_capacity_of_electric_power_plants',\n",
       "       'ethane', 'falling_water', 'fuel_oil', 'fuelwood', 'gas_coke',\n",
       "       'gas_oil_diesel_oil', 'gasoline_type_jet_fuel', 'gasworks_gas',\n",
       "       'geothermal', 'hard_coal', 'heat', 'hydro', 'industrial_waste',\n",
       "       'kerosene_type_jet_fuel', 'lignite', 'liquified_petroleum_gas',\n",
       "       'lubricants', 'motor_gasoline', 'municipal_wastes', 'naphtha',\n",
       "       'natural_gas_including_lng', 'natural_gas_liquids',\n",
       "       'nuclear_electricity', 'of_which_biodiesel',\n",
       "       'of_which_biogasoline', 'oil_shale_oil_sands',\n",
       "       'other_bituminous_coal', 'other_coal_products',\n",
       "       'other_hydrocarbons', 'other_kerosene', 'other_liquid_biofuels',\n",
       "       'other_oil_products_n_e_c', 'other_recovered_gases',\n",
       "       'other_vegetal_material_and_residues', 'paraffin_waxes',\n",
       "       'patent_fuel', 'peat', 'peat_products', 'petroleum_coke',\n",
       "       'refinery_feedstocks', 'refinery_gas', 'solar_electricity',\n",
       "       'sub_bituminous_coal', 'thermal_electricity',\n",
       "       'tide_wave_and_ocean_electricity', 'total_electricity',\n",
       "       'total_refinery_output', 'uranium',\n",
       "       'white_spirit_and_special_boiling_point_industrial_spirits',\n",
       "       'wind_electricity'], dtype=object)"
      ]
     },
     "execution_count": 71,
     "metadata": {},
     "output_type": "execute_result"
    }
   ],
   "source": [
    "unique_categories"
   ]
  },
  {
   "cell_type": "markdown",
   "id": "4029b492",
   "metadata": {},
   "source": [
    "Right, so we see that each category corresponds to a different energy source.\n",
    "\n",
    "Our study is focused only on electricity so we are going to be looking at the following:\n",
    "\n",
    "- Renewable:\n",
    "    - Hydroelectric: 'hydro'.\n",
    "    - Geothermal: 'geothermal'\n",
    "    - Solar; 'solar_electricity'\n",
    "    - Marine: 'tide_wave_and_ocean_electricity'\n",
    "    - Wind: 'wind_electricity'\n",
    "    \n",
    "- Non-renewable \n",
    "    - Nuclear: 'nuclear_electricity'\n",
    "    - Thermal: 'thermal_electricity'\n",
    "\n",
    "- Total: 'total_electricity'."
   ]
  },
  {
   "cell_type": "markdown",
   "id": "27e7dcc6",
   "metadata": {},
   "source": [
    "Let's isolate the category 'solar_electricity' using a boolean selection:"
   ]
  },
  {
   "cell_type": "code",
   "execution_count": 72,
   "id": "cc9afb99",
   "metadata": {},
   "outputs": [
    {
     "data": {
      "text/html": [
       "<div>\n",
       "<style scoped>\n",
       "    .dataframe tbody tr th:only-of-type {\n",
       "        vertical-align: middle;\n",
       "    }\n",
       "\n",
       "    .dataframe tbody tr th {\n",
       "        vertical-align: top;\n",
       "    }\n",
       "\n",
       "    .dataframe thead th {\n",
       "        text-align: right;\n",
       "    }\n",
       "</style>\n",
       "<table border=\"1\" class=\"dataframe\">\n",
       "  <thead>\n",
       "    <tr style=\"text-align: right;\">\n",
       "      <th></th>\n",
       "      <th>country_or_area</th>\n",
       "      <th>commodity_transaction</th>\n",
       "      <th>year</th>\n",
       "      <th>unit</th>\n",
       "      <th>quantity</th>\n",
       "      <th>quantity_footnotes</th>\n",
       "      <th>category</th>\n",
       "    </tr>\n",
       "  </thead>\n",
       "  <tbody>\n",
       "    <tr>\n",
       "      <th>1025748</th>\n",
       "      <td>American Samoa</td>\n",
       "      <td>Electricity - total solar production</td>\n",
       "      <td>2014</td>\n",
       "      <td>Kilowatt-hours, million</td>\n",
       "      <td>1.1</td>\n",
       "      <td>1.0</td>\n",
       "      <td>solar_electricity</td>\n",
       "    </tr>\n",
       "    <tr>\n",
       "      <th>1025749</th>\n",
       "      <td>American Samoa</td>\n",
       "      <td>Electricity - total solar production</td>\n",
       "      <td>2013</td>\n",
       "      <td>Kilowatt-hours, million</td>\n",
       "      <td>1.1</td>\n",
       "      <td>1.0</td>\n",
       "      <td>solar_electricity</td>\n",
       "    </tr>\n",
       "    <tr>\n",
       "      <th>1025750</th>\n",
       "      <td>American Samoa</td>\n",
       "      <td>Electricity - total solar production</td>\n",
       "      <td>2012</td>\n",
       "      <td>Kilowatt-hours, million</td>\n",
       "      <td>1.1</td>\n",
       "      <td>NaN</td>\n",
       "      <td>solar_electricity</td>\n",
       "    </tr>\n",
       "    <tr>\n",
       "      <th>1025751</th>\n",
       "      <td>Argentina</td>\n",
       "      <td>Electricity - total solar production</td>\n",
       "      <td>2014</td>\n",
       "      <td>Kilowatt-hours, million</td>\n",
       "      <td>16.0</td>\n",
       "      <td>NaN</td>\n",
       "      <td>solar_electricity</td>\n",
       "    </tr>\n",
       "    <tr>\n",
       "      <th>1025752</th>\n",
       "      <td>Argentina</td>\n",
       "      <td>Electricity - total solar production</td>\n",
       "      <td>2013</td>\n",
       "      <td>Kilowatt-hours, million</td>\n",
       "      <td>15.0</td>\n",
       "      <td>NaN</td>\n",
       "      <td>solar_electricity</td>\n",
       "    </tr>\n",
       "    <tr>\n",
       "      <th>...</th>\n",
       "      <td>...</td>\n",
       "      <td>...</td>\n",
       "      <td>...</td>\n",
       "      <td>...</td>\n",
       "      <td>...</td>\n",
       "      <td>...</td>\n",
       "      <td>...</td>\n",
       "    </tr>\n",
       "    <tr>\n",
       "      <th>1026696</th>\n",
       "      <td>Uruguay</td>\n",
       "      <td>Electricity - total solar production</td>\n",
       "      <td>2014</td>\n",
       "      <td>Kilowatt-hours, million</td>\n",
       "      <td>3.4</td>\n",
       "      <td>NaN</td>\n",
       "      <td>solar_electricity</td>\n",
       "    </tr>\n",
       "    <tr>\n",
       "      <th>1026697</th>\n",
       "      <td>Vanuatu</td>\n",
       "      <td>Electricity - total solar production</td>\n",
       "      <td>2014</td>\n",
       "      <td>Kilowatt-hours, million</td>\n",
       "      <td>0.2</td>\n",
       "      <td>1.0</td>\n",
       "      <td>solar_electricity</td>\n",
       "    </tr>\n",
       "    <tr>\n",
       "      <th>1026698</th>\n",
       "      <td>Vanuatu</td>\n",
       "      <td>Electricity - total solar production</td>\n",
       "      <td>2013</td>\n",
       "      <td>Kilowatt-hours, million</td>\n",
       "      <td>0.2</td>\n",
       "      <td>1.0</td>\n",
       "      <td>solar_electricity</td>\n",
       "    </tr>\n",
       "    <tr>\n",
       "      <th>1026699</th>\n",
       "      <td>Vanuatu</td>\n",
       "      <td>Electricity - total solar production</td>\n",
       "      <td>2012</td>\n",
       "      <td>Kilowatt-hours, million</td>\n",
       "      <td>0.2</td>\n",
       "      <td>NaN</td>\n",
       "      <td>solar_electricity</td>\n",
       "    </tr>\n",
       "    <tr>\n",
       "      <th>1026700</th>\n",
       "      <td>Vanuatu</td>\n",
       "      <td>Electricity - total solar production</td>\n",
       "      <td>2011</td>\n",
       "      <td>Kilowatt-hours, million</td>\n",
       "      <td>0.1</td>\n",
       "      <td>1.0</td>\n",
       "      <td>solar_electricity</td>\n",
       "    </tr>\n",
       "  </tbody>\n",
       "</table>\n",
       "<p>953 rows × 7 columns</p>\n",
       "</div>"
      ],
      "text/plain": [
       "        country_or_area                 commodity_transaction  year  \\\n",
       "1025748  American Samoa  Electricity - total solar production  2014   \n",
       "1025749  American Samoa  Electricity - total solar production  2013   \n",
       "1025750  American Samoa  Electricity - total solar production  2012   \n",
       "1025751       Argentina  Electricity - total solar production  2014   \n",
       "1025752       Argentina  Electricity - total solar production  2013   \n",
       "...                 ...                                   ...   ...   \n",
       "1026696         Uruguay  Electricity - total solar production  2014   \n",
       "1026697         Vanuatu  Electricity - total solar production  2014   \n",
       "1026698         Vanuatu  Electricity - total solar production  2013   \n",
       "1026699         Vanuatu  Electricity - total solar production  2012   \n",
       "1026700         Vanuatu  Electricity - total solar production  2011   \n",
       "\n",
       "                            unit  quantity  quantity_footnotes  \\\n",
       "1025748  Kilowatt-hours, million       1.1                 1.0   \n",
       "1025749  Kilowatt-hours, million       1.1                 1.0   \n",
       "1025750  Kilowatt-hours, million       1.1                 NaN   \n",
       "1025751  Kilowatt-hours, million      16.0                 NaN   \n",
       "1025752  Kilowatt-hours, million      15.0                 NaN   \n",
       "...                          ...       ...                 ...   \n",
       "1026696  Kilowatt-hours, million       3.4                 NaN   \n",
       "1026697  Kilowatt-hours, million       0.2                 1.0   \n",
       "1026698  Kilowatt-hours, million       0.2                 1.0   \n",
       "1026699  Kilowatt-hours, million       0.2                 NaN   \n",
       "1026700  Kilowatt-hours, million       0.1                 1.0   \n",
       "\n",
       "                  category  \n",
       "1025748  solar_electricity  \n",
       "1025749  solar_electricity  \n",
       "1025750  solar_electricity  \n",
       "1025751  solar_electricity  \n",
       "1025752  solar_electricity  \n",
       "...                    ...  \n",
       "1026696  solar_electricity  \n",
       "1026697  solar_electricity  \n",
       "1026698  solar_electricity  \n",
       "1026699  solar_electricity  \n",
       "1026700  solar_electricity  \n",
       "\n",
       "[953 rows x 7 columns]"
      ]
     },
     "execution_count": 72,
     "metadata": {},
     "output_type": "execute_result"
    }
   ],
   "source": [
    "df[df['category'] == 'solar_electricity']"
   ]
  },
  {
   "cell_type": "markdown",
   "id": "8ef049fd",
   "metadata": {},
   "source": [
    "From column 'commodity_transaction' we see that the quantity displayed corresponds to the total solar production. It seems that this is the only transaction in the Database, but before we continue, let's confirm that with the following command:"
   ]
  },
  {
   "cell_type": "code",
   "execution_count": 73,
   "id": "ca5b5122",
   "metadata": {},
   "outputs": [
    {
     "data": {
      "text/plain": [
       "array(['Electricity - total solar production'], dtype=object)"
      ]
     },
     "execution_count": 73,
     "metadata": {},
     "output_type": "execute_result"
    }
   ],
   "source": [
    "df[df['category'] == 'solar_electricity']['commodity_transaction'].unique()"
   ]
  },
  {
   "cell_type": "markdown",
   "id": "e01faa0e",
   "metadata": {},
   "source": [
    "Now that this is confirmed, we can start the data preparation by computing the total production for each of the sources:"
   ]
  },
  {
   "cell_type": "markdown",
   "id": "ef758395",
   "metadata": {},
   "source": [
    "## Second step: Data preparation"
   ]
  },
  {
   "cell_type": "code",
   "execution_count": 74,
   "id": "b7ddc417",
   "metadata": {},
   "outputs": [],
   "source": [
    "# SOLAR\n",
    "df_solar_production = df[df['category'] == 'solar_electricity'] \n",
    "total_solar_production = df_solar_production.groupby('year').sum()['quantity']"
   ]
  },
  {
   "cell_type": "code",
   "execution_count": 75,
   "id": "f1e3639c",
   "metadata": {},
   "outputs": [],
   "source": [
    "# WIND\n",
    "df_wind_production = df[df['category'] == 'wind_electricity'] \n",
    "total_wind_production = df_wind_production.groupby('year').sum()['quantity']"
   ]
  },
  {
   "cell_type": "code",
   "execution_count": 76,
   "id": "57006568",
   "metadata": {},
   "outputs": [],
   "source": [
    "# HYDROELECTRIC\n",
    "df_hydro_production = df[df['category'] == 'hydro'] \n",
    "total_hydro_production = df_hydro_production.groupby('year').sum()['quantity']"
   ]
  },
  {
   "cell_type": "code",
   "execution_count": 77,
   "id": "5b68dedb",
   "metadata": {},
   "outputs": [],
   "source": [
    "# NUCLEAR\n",
    "df_nuclear_production = df[df['category'] == 'nuclear_electricity'] \n",
    "total_nuclear_production = df_nuclear_production.groupby('year').sum()['quantity']"
   ]
  },
  {
   "cell_type": "code",
   "execution_count": 78,
   "id": "cb4c7c74",
   "metadata": {},
   "outputs": [],
   "source": [
    "# THERMAL\n",
    "df_thermal_production = df[df['category'] == 'thermal_electricity'] \n",
    "total_thermal_production = df_thermal_production.groupby('year').sum()['quantity']"
   ]
  },
  {
   "cell_type": "code",
   "execution_count": 79,
   "id": "51a8a1b2",
   "metadata": {},
   "outputs": [],
   "source": [
    "# MARINE\n",
    "df_marine_production = df[df['category'] == 'tide_wave_and_ocean_electricity'] \n",
    "total_marine_production = df_marine_production.groupby('year').sum()['quantity']"
   ]
  },
  {
   "cell_type": "code",
   "execution_count": 80,
   "id": "6ab5114a",
   "metadata": {},
   "outputs": [],
   "source": [
    "# GEOTHERMAL\n",
    "df_geothermal_production = df[df['category'] == 'geothermal']\n",
    "total_geothermal_production = df_geothermal_production.groupby('year').sum()['quantity']"
   ]
  },
  {
   "cell_type": "markdown",
   "id": "aae1349e",
   "metadata": {},
   "source": [
    "Finally, we want to have the total electricity production which we can retrieve by boolean selection of 'category' equals to 'total electricity'. Let's see if there are any other subcategories:"
   ]
  },
  {
   "cell_type": "code",
   "execution_count": 81,
   "id": "1fbdc3e4",
   "metadata": {},
   "outputs": [
    {
     "data": {
      "text/plain": [
       "array(['Electricity - Consumption by chemical and petrochemical',\n",
       "       'Electricity - Consumption by commercial and public services',\n",
       "       'Electricity - Consumption by construction',\n",
       "       'Electricity - Consumption by food and tobacco',\n",
       "       'Electricity - Consumption by households',\n",
       "       'Electricity - Consumption by iron and steel',\n",
       "       'Electricity - Consumption by machinery',\n",
       "       'Electricity - Consumption by manufacturing, construction and non-fuel industry',\n",
       "       'Electricity - Consumption by mining and quarrying',\n",
       "       'Electricity - Consumption by non-ferrous metals',\n",
       "       'Electricity - Consumption by non-metallic minerals',\n",
       "       'Electricity - Consumption by other',\n",
       "       'Electricity - Consumption by other manuf., const. and non-fuel ind.',\n",
       "       'Electricity - Consumption by paper, pulp and print',\n",
       "       'Electricity - Consumption by pipeline transport',\n",
       "       'Electricity - Consumption by rail',\n",
       "       'Electricity - Consumption by road',\n",
       "       'Electricity - Consumption by textile and leather',\n",
       "       'Electricity - Consumption by transport',\n",
       "       'Electricity - Consumption by transport equipment',\n",
       "       'Electricity - Consumption by wood and wood products',\n",
       "       'Electricity - Consumption in agriculture, forestry and fishing',\n",
       "       'Electricity - Consumption not elsewhere specified (industry)',\n",
       "       'Electricity - Consumption not elsewhere specified (other)',\n",
       "       'Electricity - Consumption not elsewhere specified (transport)',\n",
       "       'Electricity - Energy industries own use', 'Electricity - exports',\n",
       "       'Electricity - Final energy consumption',\n",
       "       'Electricity - Gross demand', 'Electricity - Gross production',\n",
       "       'Electricity - imports', 'Electricity - Losses',\n",
       "       'Electricity - net production',\n",
       "       'Electricity - Other energy industry own use',\n",
       "       'Electricity - Own use by blast furnaces',\n",
       "       'Electricity - Own use by briquetting plants',\n",
       "       'Electricity - Own use by coal liquefaction plants',\n",
       "       'Electricity - Own use by coal mines',\n",
       "       'Electricity - Own use by coke ovens',\n",
       "       'Electricity - Own use by electricity, heat and CHP plants',\n",
       "       'Electricity - Own use by gas-to-liquid (GTL) plants',\n",
       "       'Electricity - Own use by gas works',\n",
       "       'Electricity - Own use by LNG/regasification plants',\n",
       "       'Electricity - Own use by nuclear fuel extraction and processing',\n",
       "       'Electricity - Own use by oil and gas extraction',\n",
       "       'Electricity - Own use by oil refineries',\n",
       "       'Electricity - Own use by pump-storage plants',\n",
       "       'Electricity - total production, autoproducer',\n",
       "       'Electricity - total production, main activity',\n",
       "       'Electricity - Used for electric boilers',\n",
       "       'Electricity - Used for heat pumps',\n",
       "       'From chemical heat – Autoproducer',\n",
       "       'From chemical heat – Autoproducer – CHP plants',\n",
       "       'From chemical heat – Autoproducer – Electricity plants',\n",
       "       'From chemical heat – Main activity',\n",
       "       'From chemical heat – Main activity – CHP plants',\n",
       "       'From chemical heat – Main activity – Electricity plants',\n",
       "       'From combustible fuels – Autoproducer',\n",
       "       'From combustible fuels – Autoproducer – CHP plants',\n",
       "       'From combustible fuels – Autoproducer – Electricity plants',\n",
       "       'From combustible fuels – Main activity',\n",
       "       'From combustible fuels – Main activity – CHP plants',\n",
       "       'From combustible fuels – Main activity – Electricity plants',\n",
       "       'From other sources – Autoproducer',\n",
       "       'From other sources – Autoproducer – CHP plants',\n",
       "       'From other sources – Autoproducer – Electricity plants',\n",
       "       'From other sources – Main activity',\n",
       "       'From other sources – Main activity – CHP plants',\n",
       "       'From other sources – Main activity – Electricity plants',\n",
       "       'Geothermal – Autoproducer',\n",
       "       'Geothermal – Autoproducer – CHP plants',\n",
       "       'Geothermal – Autoproducer – Electricity plants',\n",
       "       'Geothermal – Main activity',\n",
       "       'Geothermal – Main activity – CHP plants',\n",
       "       'Geothermal – Main activity – Electricity plants',\n",
       "       'Hydro – Autoproducer', 'Hydro – Main activity',\n",
       "       'Nuclear – Autoproducer', 'Nuclear – Autoproducer – CHP plants',\n",
       "       'Nuclear – Autoproducer – Electricity plants',\n",
       "       'Nuclear – Main activity', 'Nuclear – Main activity – CHP plants',\n",
       "       'Nuclear – Main activity – Electricity plants',\n",
       "       'Of which: Pumped hydro – Autoproducer',\n",
       "       'Of which: Pumped hydro – Main activity', 'Solar – Autoproducer',\n",
       "       'Solar – Main activity', 'Solar photovoltaic – Autoproducer',\n",
       "       'Solar photovoltaic – Main activity',\n",
       "       'Solar thermal – Autoproducer', 'Solar thermal – Main activity',\n",
       "       'Tide, wave and marine – Autoproducer',\n",
       "       'Tide, wave and marine – Main activity', 'Wind – Autoproducer',\n",
       "       'Wind – Main activity'], dtype=object)"
      ]
     },
     "execution_count": 81,
     "metadata": {},
     "output_type": "execute_result"
    }
   ],
   "source": [
    "df[(df['category'] == 'total_electricity')]['commodity_transaction'].unique()"
   ]
  },
  {
   "cell_type": "markdown",
   "id": "c892cef7",
   "metadata": {},
   "source": [
    "We need to select only 'Electricity - Gross production', so we add this condition to the boolean selection, and proceed in the same way as before to compute the total:"
   ]
  },
  {
   "cell_type": "code",
   "execution_count": 82,
   "id": "2f667edf",
   "metadata": {},
   "outputs": [],
   "source": [
    "df_electricity_production = df[(df['category'] == 'total_electricity') &\n",
    "                               (df['commodity_transaction'] == 'Electricity - Gross production')]\n",
    "total_electricity_production = df_electricity_production.groupby('year').sum()['quantity']\n",
    "\n"
   ]
  },
  {
   "cell_type": "markdown",
   "id": "d2bff063",
   "metadata": {},
   "source": [
    "Before continuing our study, let's check that the dataframe for total electricity production equals the sum of the others. For instance, let's take year 2014:"
   ]
  },
  {
   "cell_type": "code",
   "execution_count": 83,
   "id": "f569fb61",
   "metadata": {},
   "outputs": [
    {
     "name": "stdout",
     "output_type": "stream",
     "text": [
      "total_electricity: 23906233.07793357\n",
      "sum: 23880054.077933557\n",
      "error (%): 0.1095070056192812\n"
     ]
    }
   ],
   "source": [
    "sum_all = total_solar_production[2014] + \\\n",
    "          total_wind_production[2014] + \\\n",
    "          total_hydro_production[2014] + \\\n",
    "          total_geothermal_production[2014] + \\\n",
    "          total_nuclear_production[2014] + \\\n",
    "          total_thermal_production[2014] + \\\n",
    "          total_marine_production[2014]\n",
    "        \n",
    "print(\"total_electricity: \" + str(total_electricity_production[2014]))\n",
    "print(\"sum: \" + str(sum_all))\n",
    "print(\"error (%): \" + str((total_electricity_production[2014]-sum_all)/total_electricity_production[2014]*100.))"
   ]
  },
  {
   "cell_type": "markdown",
   "id": "527af182",
   "metadata": {},
   "source": [
    "Although there is a slight difference between both, for our purpose we can deem it negligible because it is around 0.1%. Now we are ready to tackle our first question:"
   ]
  },
  {
   "cell_type": "markdown",
   "id": "0e0e0807",
   "metadata": {},
   "source": [
    "## 1. What are the trends on electricity production in the last decades?"
   ]
  },
  {
   "cell_type": "markdown",
   "id": "8733f284",
   "metadata": {},
   "source": [
    "Let's plot the evolution of electricity production from different sources throughout the years. Note that the database only contains data until 2014."
   ]
  },
  {
   "cell_type": "code",
   "execution_count": 84,
   "id": "e077bbf7",
   "metadata": {},
   "outputs": [
    {
     "data": {
      "image/png": "[encoded data removed]",
      "text/plain": [
       "<Figure size 432x288 with 1 Axes>"
      ]
     },
     "metadata": {
      "needs_background": "light"
     },
     "output_type": "display_data"
    }
   ],
   "source": [
    "plt.plot(total_solar_production, label='Solar')\n",
    "plt.plot(total_wind_production, label='Wind')\n",
    "plt.plot(total_hydro_production, label='Hydro')\n",
    "plt.plot(total_geothermal_production, label='Geothermal')\n",
    "plt.plot(total_nuclear_production, label='Nuclear')\n",
    "plt.plot(total_thermal_production, label='Thermal')\n",
    "plt.plot(total_marine_production, label='Marine')\n",
    "plt.plot(total_electricity_production, label='Total')\n",
    "\n",
    "plt.xlabel('Year')\n",
    "plt.ylabel('kWh (Millions)')\n",
    "plt.legend()\n",
    "plt.savefig('image1.png')"
   ]
  },
  {
   "cell_type": "markdown",
   "id": "d73edfa7",
   "metadata": {},
   "source": [
    "From this plot we can extract the following points:\n",
    "- World electricity production doubled from 1990 to 2014.\n",
    "- Thermal (non-renewable) energy is the most important source by far.\n",
    "- All energy sources but nuclear increased in that time. Notably, there's been a decline in nuclear since 2005.\n",
    "- Solar, wind, geothermal and marine production are almost negligible, but there's been an important increase since 2010, especially for wind."
   ]
  },
  {
   "cell_type": "markdown",
   "id": "5086c5b0",
   "metadata": {},
   "source": [
    "## 2. What are the countries that have increased the most wind energy production?"
   ]
  },
  {
   "cell_type": "markdown",
   "id": "8e7dd186",
   "metadata": {},
   "source": [
    "To answer this and next questions, it will be useful to compute the difference between the production at two different years coming from every source. To do so, we will write two functions: one for the absolute difference, and one for the relative difference. The first one will help us determine what countries contribute the most to the global picture, and the second one will help us determine what are the countries that are making the greatest changes, but only locally."
   ]
  },
  {
   "cell_type": "code",
   "execution_count": 85,
   "id": "d2611ebb",
   "metadata": {},
   "outputs": [],
   "source": [
    "\n",
    "def create_df_rel_increase_by_country(df, category, list_of_countries, from_year, to_year):\n",
    "    \"\"\"\n",
    "    Function that returns a DataFrame with the relative difference of a given category in an interval of years.\n",
    "    \n",
    "    Input:\n",
    "    - df: Dataframe that is used to compute the relative difference.\n",
    "    - str category: It must be one of the categories of df.\n",
    "    - list_of_countries: List containing the countries from which the relative increase will be obtained.\n",
    "    - int from_year: Start year of the interval.\n",
    "    - int to_year: End year of the interval.\n",
    "    \n",
    "    Output:\n",
    "    - df_rel_increase: Dataframe with columns: Country, Relative Increment.\n",
    "    \"\"\"\n",
    "    \n",
    "    df_category = df[df['category'] == category] # Select category\n",
    "    df_rel_increase = pd.DataFrame(columns=[]) # Initialize df_rel_increase\n",
    "    \n",
    "\n",
    "    \n",
    "    for country in list_of_countries:\n",
    "        \n",
    "        # Write string used on df_rel_increase column\n",
    "        string = category + '_rel_inc_' + str(from_year) + '_' + str(to_year)\n",
    "        \n",
    "        try:\n",
    "            \n",
    "            #   a. Select start, end year and country\n",
    "            #   b. Obtain category specific production\n",
    "            #   c. Obtain total production\n",
    "            #   d. Compute relative production as ratio of b and c\n",
    "            #   e. Compute difference\n",
    "            \n",
    "            # a\n",
    "            select_cat_end = (df_category['year'] == to_year) & \\\n",
    "                             (df_category['country_or_area'] == country)\n",
    "                \n",
    "            select_cat_start = (df_category['year'] == from_year) & \\\n",
    "                               (df_category['country_or_area'] == country)\n",
    "                \n",
    "            select_tot_end = (df_electricity_production['year'] == to_year) & \\\n",
    "                             (df_electricity_production['country_or_area']==country)\n",
    "                \n",
    "            select_tot_start = (df_electricity_production['year'] == to_year) & \\\n",
    "                             (df_electricity_production['country_or_area'] == country)\n",
    "                \n",
    "            # b\n",
    "            production_end = df_category[select_cat_end]['quantity'].values\n",
    "                                \n",
    "            production_start = df_category[select_cat_start]['quantity'].values\n",
    "            \n",
    "            # c\n",
    "            total_end = df_electricity_production[select_tot_end]['quantity'].values\n",
    "            \n",
    "            total_start = df_electricity_production[select_tot_start]['quantity'].values\n",
    "                                \n",
    "            # d and e\n",
    "            value = (production_end/total_end - production_start/total_start)\n",
    "          \n",
    "            # Add row with country and value to df_rel_increase    \n",
    "            df_rel_increase=pd.concat([df_rel_increase, \\\n",
    "                                       pd.DataFrame({string: value}, index=[country])], axis=0)\n",
    "\n",
    "        except: # If there is an error treat as NaN\n",
    "            df_rel_increase=pd.concat([df_rel_increase, \\\n",
    "                                       pd.DataFrame({string: pd.NA}, index=[country])], axis=0)\n",
    "    \n",
    "    return df_rel_increase    "
   ]
  },
  {
   "cell_type": "code",
   "execution_count": 86,
   "id": "5b9a99b0",
   "metadata": {},
   "outputs": [],
   "source": [
    "def create_df_increase_by_country(df, category, list_of_countries, from_year, to_year):\n",
    "    \"\"\"\n",
    "    Function that returns a DataFrame with the difference of a given category in an interval of years.\n",
    "    \n",
    "    Input:\n",
    "    - df: Dataframe that is used to compute the relative difference.\n",
    "    - str category: It must be one of the categories of df.\n",
    "    - list_of_countries: List containing the countries from which the relative increase will be obtained.\n",
    "    - int from_year: Start year of the interval.\n",
    "    - int to_year: End year of the interval.\n",
    "    \n",
    "    Output:\n",
    "    - df_increase: Dataframe with columns: Country, Increment.\n",
    "    \"\"\"\n",
    "    \n",
    "    df_category = df[df['category'] == category] # Select category\n",
    "    df_increase = pd.DataFrame(columns=[]) # Initialize df_increase\n",
    "    \n",
    "    string = category + '_inc_' + str(from_year) + '_' + str(to_year)\n",
    "    \n",
    "    for country in list_of_countries:\n",
    "        \n",
    "        try:\n",
    "            #   a. Select start, end year and country\n",
    "            #   b. Obtain category specific production for both years\n",
    "            #   c. Compute production as ratio of b and c\n",
    "            \n",
    "            # a\n",
    "            select_cat_end = (df_category['year'] == to_year) & \\\n",
    "                             (df_category['country_or_area'] == country)\n",
    "                \n",
    "            select_cat_start = (df_category['year'] == from_year) & \\\n",
    "                               (df_category['country_or_area'] == country)\n",
    "                \n",
    "            select_tot_end = (df_electricity_production['year'] == to_year) & \\\n",
    "                             (df_electricity_production['country_or_area']==country)\n",
    "                \n",
    "            select_tot_start = (df_electricity_production['year'] == to_year) & \\\n",
    "                             (df_electricity_production['country_or_area'] == country)\n",
    "            \n",
    "            # b\n",
    "            production_end = df_category[select_cat_end]['quantity'].values\n",
    "            \n",
    "            production_start = df_category[select_cat_start]['quantity'].values\n",
    "            \n",
    "            # c\n",
    "            value = production_end - production_start\n",
    "            \n",
    "            # Add row with country and value to df_increase\n",
    "            df_increase=pd.concat([df_increase, \\\n",
    "                                   pd.DataFrame({string: value}, index=[country])], axis=0)\n",
    "\n",
    "        except: # If there is an error treat as NaN\n",
    "            df_increase=pd.concat([df_increase, \\\n",
    "                                   pd.DataFrame({string: pd.NA}, index=[country])], axis=0)\n",
    "    \n",
    "    return df_increase"
   ]
  },
  {
   "cell_type": "markdown",
   "id": "ef325187",
   "metadata": {},
   "source": [
    "Also, we will write another function to obtain a dataframe with the electricity structure for a list of countries in a given year. This will help us compare much more easily at a glimpse the structure of two different years by means of a pie chart."
   ]
  },
  {
   "cell_type": "code",
   "execution_count": 87,
   "id": "394e41ff",
   "metadata": {},
   "outputs": [],
   "source": [
    "def create_df_pool_by_country(df, list_of_countries, year):\n",
    "    \"\"\"\n",
    "    Function that returns a DataFrame with the structure of the production\n",
    "    of a given category in an interval of years.\n",
    "    \n",
    "    Input:\n",
    "    - df: Dataframe that is used to compute the relative difference.\n",
    "    - str list_of_countries: List containing the countries from which\n",
    "                             the structure will be obtained.\n",
    "    - int year.\n",
    "    \n",
    "    Output:\n",
    "    - df_increase: Dataframe with columns Country and Increment.\n",
    "    \"\"\"\n",
    "    \n",
    "    categories = ['solar_electricity','hydro','nuclear_electricity',\n",
    "                  'thermal_electricity','wind_electricity',\n",
    "                  'tide_wave_and_ocean_electricity']\n",
    "\n",
    "    df_pool = pd.DataFrame(columns = []) # Initialize df_pool\n",
    "    \n",
    "    for category in categories: # Loop all categories\n",
    "        \n",
    "        df_pool_cat = pd.DataFrame(columns = [category]) # Initialize df_pool_cat\n",
    "        df_category = df[df['category'] == category] # Select category\n",
    "                   \n",
    "        for country in list_of_countries:\n",
    "    \n",
    "            try: \n",
    "                #   a. Select year and country.\n",
    "                #   b. Obtain production.\n",
    "                #   c. Add to dataframe.\n",
    "                \n",
    "                # a\n",
    "                select = (df_category['year']==year) & \\\n",
    "                         (df_category['country_or_area']==country)\n",
    "                # b\n",
    "                value = df_category[select]['quantity'].values\n",
    "                \n",
    "                # c   \n",
    "                df_pool_cat=pd.concat([df_pool_cat,pd.DataFrame({category: value}, \\\n",
    "                                                          index=[country]) \\\n",
    "                                   ], axis=0)\n",
    "\n",
    "            except: # If there is an error add value as NaN.\n",
    "                df_pool_cat=pd.concat([df_pool_cat,pd.DataFrame({category: pd.NA}, \\\n",
    "                                                          index=[country]) \\\n",
    "                                   ], axis=0)\n",
    "        \n",
    "        # Add new category to df_pool\n",
    "        df_pool = pd.concat([df_pool,df_pool_cat], axis=1)\n",
    "    \n",
    "    \n",
    "    return df_pool"
   ]
  },
  {
   "cell_type": "markdown",
   "id": "c78967ff",
   "metadata": {},
   "source": [
    "We need to retrieve a list with all the countries that we are going to analyze:"
   ]
  },
  {
   "cell_type": "code",
   "execution_count": 88,
   "id": "850512c4",
   "metadata": {},
   "outputs": [],
   "source": [
    "list_of_countries = df['country_or_area'].unique()"
   ]
  },
  {
   "cell_type": "markdown",
   "id": "3da73c78",
   "metadata": {},
   "source": [
    "Let's run it for year 2014, and create a pie chart for Spain."
   ]
  },
  {
   "cell_type": "code",
   "execution_count": 89,
   "id": "54e43123",
   "metadata": {},
   "outputs": [],
   "source": [
    "df_pool = create_df_pool_by_country(df, list_of_countries, 2014)"
   ]
  },
  {
   "cell_type": "code",
   "execution_count": 90,
   "id": "a3d2d3c9",
   "metadata": {},
   "outputs": [
    {
     "data": {
      "image/png": "[encoded data removed]",
      "text/plain": [
       "<Figure size 432x288 with 1 Axes>"
      ]
     },
     "metadata": {},
     "output_type": "display_data"
    }
   ],
   "source": [
    "fig1, ax1 = plt.subplots()\n",
    "\n",
    "df_pool_clean = df_pool.loc['Spain'].dropna(axis=0)\n",
    "\n",
    "ax1.pie(df_pool_clean, labels=df_pool_clean.index, autopct='%1.1f%%', shadow=True, startangle=90)\n",
    "\n",
    "#plt.show()\n",
    "\n",
    "plt.savefig('image2.png')"
   ]
  },
  {
   "cell_type": "markdown",
   "id": "d9cc21dc",
   "metadata": {},
   "source": [
    "Now, let's do the same for a decade earlier:"
   ]
  },
  {
   "cell_type": "code",
   "execution_count": 91,
   "id": "560864ab",
   "metadata": {},
   "outputs": [],
   "source": [
    "df_pool = create_df_pool_by_country(df, list_of_countries, 2004)"
   ]
  },
  {
   "cell_type": "code",
   "execution_count": 92,
   "id": "8ab45c85",
   "metadata": {},
   "outputs": [
    {
     "data": {
      "image/png": "[encoded data removed]",
      "text/plain": [
       "<Figure size 432x288 with 1 Axes>"
      ]
     },
     "metadata": {},
     "output_type": "display_data"
    }
   ],
   "source": [
    "fig1, ax1 = plt.subplots()\n",
    "\n",
    "df_pool_clean = df_pool.loc['Spain'].dropna(axis=0)\n",
    "\n",
    "ax1.pie(df_pool_clean, labels=df_pool_clean.index, autopct='%1.1f%%', shadow=True, startangle=90)\n",
    "\n",
    "#plt.show()\n",
    "\n",
    "plt.savefig('image3.png')"
   ]
  },
  {
   "cell_type": "markdown",
   "id": "3a2553f6",
   "metadata": {},
   "source": [
    "From the comparison of both graphs we can extract the following:\n",
    "- Thermal electricity, and nuclear electricity decreased, more the first one.\n",
    "- Hydro increased slightly, wind doubled and solar exploded."
   ]
  },
  {
   "cell_type": "markdown",
   "id": "62625b1a",
   "metadata": {},
   "source": [
    "Although this is useful to focus on one country in particular, we need to use the functions created previously to analyze all the countries at the same time."
   ]
  },
  {
   "cell_type": "markdown",
   "id": "de50ecae",
   "metadata": {},
   "source": [
    "Now we are going to analyze what countries have had largest relative growth in wind energy production from 2004 to 2014. Since we will be using this variables in the rest of the study let's set them here."
   ]
  },
  {
   "cell_type": "code",
   "execution_count": 93,
   "id": "7fa560b9",
   "metadata": {},
   "outputs": [],
   "source": [
    "from_year = 2004\n",
    "to_year = 2014"
   ]
  },
  {
   "cell_type": "code",
   "execution_count": 94,
   "id": "6becec46",
   "metadata": {},
   "outputs": [
    {
     "data": {
      "text/html": [
       "<div>\n",
       "<style scoped>\n",
       "    .dataframe tbody tr th:only-of-type {\n",
       "        vertical-align: middle;\n",
       "    }\n",
       "\n",
       "    .dataframe tbody tr th {\n",
       "        vertical-align: top;\n",
       "    }\n",
       "\n",
       "    .dataframe thead th {\n",
       "        text-align: right;\n",
       "    }\n",
       "</style>\n",
       "<table border=\"1\" class=\"dataframe\">\n",
       "  <thead>\n",
       "    <tr style=\"text-align: right;\">\n",
       "      <th></th>\n",
       "      <th>wind_electricity_rel_inc_2004_2014</th>\n",
       "    </tr>\n",
       "  </thead>\n",
       "  <tbody>\n",
       "    <tr>\n",
       "      <th>Falkland Is. (Malvinas)</th>\n",
       "      <td>0.308215</td>\n",
       "    </tr>\n",
       "    <tr>\n",
       "      <th>Portugal</th>\n",
       "      <td>0.213912</td>\n",
       "    </tr>\n",
       "    <tr>\n",
       "      <th>Denmark</th>\n",
       "      <td>0.201846</td>\n",
       "    </tr>\n",
       "    <tr>\n",
       "      <th>Ireland</th>\n",
       "      <td>0.170442</td>\n",
       "    </tr>\n",
       "    <tr>\n",
       "      <th>Lithuania</th>\n",
       "      <td>0.145099</td>\n",
       "    </tr>\n",
       "  </tbody>\n",
       "</table>\n",
       "</div>"
      ],
      "text/plain": [
       "                         wind_electricity_rel_inc_2004_2014\n",
       "Falkland Is. (Malvinas)                            0.308215\n",
       "Portugal                                           0.213912\n",
       "Denmark                                            0.201846\n",
       "Ireland                                            0.170442\n",
       "Lithuania                                          0.145099"
      ]
     },
     "execution_count": 94,
     "metadata": {},
     "output_type": "execute_result"
    }
   ],
   "source": [
    "wind_rel_increase_bycountry = create_df_rel_increase_by_country(df, \\\n",
    "                                                                'wind_electricity', \\\n",
    "                                                                list_of_countries, \\\n",
    "                                                                from_year, to_year)\n",
    "# Sort in descending order and show to\n",
    "wind_rel_increase_bycountry.sort_values('wind_electricity_rel_inc_' + \\\n",
    "                                        str(from_year) + '_' + str(to_year), \\\n",
    "                                        axis=0,ascending=False).head()"
   ]
  },
  {
   "cell_type": "markdown",
   "id": "9ec186db",
   "metadata": {},
   "source": [
    "Malvinas, Denmark, and Portugal had the largest relative increase."
   ]
  },
  {
   "cell_type": "code",
   "execution_count": 95,
   "id": "16884577",
   "metadata": {},
   "outputs": [
    {
     "data": {
      "text/html": [
       "<div>\n",
       "<style scoped>\n",
       "    .dataframe tbody tr th:only-of-type {\n",
       "        vertical-align: middle;\n",
       "    }\n",
       "\n",
       "    .dataframe tbody tr th {\n",
       "        vertical-align: top;\n",
       "    }\n",
       "\n",
       "    .dataframe thead th {\n",
       "        text-align: right;\n",
       "    }\n",
       "</style>\n",
       "<table border=\"1\" class=\"dataframe\">\n",
       "  <thead>\n",
       "    <tr style=\"text-align: right;\">\n",
       "      <th></th>\n",
       "      <th>wind_electricity_inc_2004_2014</th>\n",
       "    </tr>\n",
       "  </thead>\n",
       "  <tbody>\n",
       "    <tr>\n",
       "      <th>United States</th>\n",
       "      <td>169601.0</td>\n",
       "    </tr>\n",
       "    <tr>\n",
       "      <th>Spain</th>\n",
       "      <td>36313.0</td>\n",
       "    </tr>\n",
       "    <tr>\n",
       "      <th>Germany</th>\n",
       "      <td>31848.0</td>\n",
       "    </tr>\n",
       "    <tr>\n",
       "      <th>United Kingdom</th>\n",
       "      <td>30080.0</td>\n",
       "    </tr>\n",
       "    <tr>\n",
       "      <th>India</th>\n",
       "      <td>22762.0</td>\n",
       "    </tr>\n",
       "  </tbody>\n",
       "</table>\n",
       "</div>"
      ],
      "text/plain": [
       "                wind_electricity_inc_2004_2014\n",
       "United States                         169601.0\n",
       "Spain                                  36313.0\n",
       "Germany                                31848.0\n",
       "United Kingdom                         30080.0\n",
       "India                                  22762.0"
      ]
     },
     "execution_count": 95,
     "metadata": {},
     "output_type": "execute_result"
    }
   ],
   "source": [
    "wind_increase_bycountry = create_df_increase_by_country(df, \\\n",
    "                                                        'wind_electricity', \\\n",
    "                                                        list_of_countries, \\\n",
    "                                                        from_year, to_year)\n",
    "# Sort in descending order and show top 5\n",
    "wind_increase_bycountry.sort_values('wind_electricity_inc_' +\\\n",
    "                                    str(from_year) + '_' + str(to_year), \\\n",
    "                                    axis=0,ascending=False).head()"
   ]
  },
  {
   "cell_type": "markdown",
   "id": "b81bd541",
   "metadata": {},
   "source": [
    "For more detail let's create a procedure to plot a pie chart with all the countries. Note that we have to group all the countries with small growth in 'others' for better legibility. Also we need to allow for countries with negative values. That's why we need to separate all the countries in two different sets:\n",
    "- One for the countries that had a positive increase.\n",
    "- One for the countries that had a negative increase, or decrease.\n",
    "\n",
    "We'll do this slicing by means of a boolean mask. Let's see what it looks like, and run it with 'wind_electricity':"
   ]
  },
  {
   "cell_type": "code",
   "execution_count": 141,
   "id": "72d0529b",
   "metadata": {},
   "outputs": [],
   "source": [
    "def plot_pie_top_countries(source_increase, category, N, from_year, to_year, top=True):\n",
    "    \"\"\" \n",
    "    Function that creates a pie chart with the countries that have greatest increment\n",
    "    for a source of energy over an interval of years.\n",
    "    \n",
    "    Input:\n",
    "    - source_increase: Dataframe containing the relative difference.\n",
    "    - str category: category of energy, as in main dataframe.\n",
    "    - int from_year: Start year of the interval.\n",
    "    - int to_year: End year of the interval.\n",
    "    - int N: Cut-value since which remaining countries are grouped.\n",
    "    - Bool (top): set False to compute the negative increments.\n",
    "    \"\"\"\n",
    "\n",
    "    fig1, ax1 = plt.subplots()\n",
    "\n",
    "    # Multiply values by -1 for negative increments\n",
    "    if top == True:\n",
    "        coeff = 1\n",
    "    else:\n",
    "        coeff = -1\n",
    "    \n",
    "    source_increase_clean = coeff*source_increase.dropna(axis=0) # Drop NaN\n",
    "\n",
    "    # Sort in descending order and take slice with N first\n",
    "    source_increase_sorted = source_increase_clean[category + '_inc_' + \\\n",
    "                                               str(from_year) + '_' + str(to_year)]. \\\n",
    "                                               sort_values(ascending=False)[:N]\n",
    "    # Obtain mask with positive values\n",
    "    positive_values =        source_increase_clean[category + '_inc_' + \\\n",
    "                                               str(from_year) + '_' + str(to_year)]. \\\n",
    "                                               sort_values(ascending=False)>0\n",
    "    # Compute sum of others including only positive values\n",
    "    sum_others = source_increase_clean[category + '_inc_' + \\\n",
    "                                   str(from_year) + '_' + str(to_year)]. \\\n",
    "                                   sort_values(ascending=False) \\\n",
    "                                   [N:positive_values.sum()].values.sum()\n",
    "    # Append others to slice with N first\n",
    "    source_increase_sorted=source_increase_sorted.append(pd.Series({'others':sum_others}))\n",
    "\n",
    "    ax1.pie(source_increase_sorted, labels=source_increase_sorted.index, \\\n",
    "        autopct='%1.1f%%', shadow=True, startangle=90)\n",
    "\n",
    "    plt.savefig('image8.png')\n",
    "    \n",
    "    #plt.show()"
   ]
  },
  {
   "cell_type": "code",
   "execution_count": 134,
   "id": "803c4792",
   "metadata": {},
   "outputs": [
    {
     "data": {
      "image/png": "[encoded data removed]",
      "text/plain": [
       "<Figure size 432x288 with 1 Axes>"
      ]
     },
     "metadata": {},
     "output_type": "display_data"
    }
   ],
   "source": [
    "plot_pie_top_countries(wind_increase_bycountry, 'wind_electricity', 6, from_year, to_year)"
   ]
  },
  {
   "cell_type": "markdown",
   "id": "012e8ea8",
   "metadata": {},
   "source": [
    "United States, followed at great distance by Spain, and Germany, had the largest absolute increase."
   ]
  },
  {
   "cell_type": "markdown",
   "id": "b81846c4",
   "metadata": {},
   "source": [
    "## 3. What are the countries that have increased, and decreased, the most nuclear production?"
   ]
  },
  {
   "cell_type": "code",
   "execution_count": 98,
   "id": "8421a436",
   "metadata": {},
   "outputs": [
    {
     "data": {
      "text/html": [
       "<div>\n",
       "<style scoped>\n",
       "    .dataframe tbody tr th:only-of-type {\n",
       "        vertical-align: middle;\n",
       "    }\n",
       "\n",
       "    .dataframe tbody tr th {\n",
       "        vertical-align: top;\n",
       "    }\n",
       "\n",
       "    .dataframe thead th {\n",
       "        text-align: right;\n",
       "    }\n",
       "</style>\n",
       "<table border=\"1\" class=\"dataframe\">\n",
       "  <thead>\n",
       "    <tr style=\"text-align: right;\">\n",
       "      <th></th>\n",
       "      <th>nuclear_electricity_rel_inc_2004_2014</th>\n",
       "    </tr>\n",
       "  </thead>\n",
       "  <tbody>\n",
       "    <tr>\n",
       "      <th>Hungary</th>\n",
       "      <td>0.127132</td>\n",
       "    </tr>\n",
       "    <tr>\n",
       "      <th>Romania</th>\n",
       "      <td>0.093307</td>\n",
       "    </tr>\n",
       "    <tr>\n",
       "      <th>Slovenia</th>\n",
       "      <td>0.052245</td>\n",
       "    </tr>\n",
       "    <tr>\n",
       "      <th>Korea, Republic of</th>\n",
       "      <td>0.046634</td>\n",
       "    </tr>\n",
       "    <tr>\n",
       "      <th>Czechia</th>\n",
       "      <td>0.046499</td>\n",
       "    </tr>\n",
       "  </tbody>\n",
       "</table>\n",
       "</div>"
      ],
      "text/plain": [
       "                    nuclear_electricity_rel_inc_2004_2014\n",
       "Hungary                                          0.127132\n",
       "Romania                                          0.093307\n",
       "Slovenia                                         0.052245\n",
       "Korea, Republic of                               0.046634\n",
       "Czechia                                          0.046499"
      ]
     },
     "execution_count": 98,
     "metadata": {},
     "output_type": "execute_result"
    }
   ],
   "source": [
    "nuclear_rel_increase_bycountry = create_df_rel_increase_by_country(df, \\\n",
    "                                                                   'nuclear_electricity', \\\n",
    "                                                                   list_of_countries, \\\n",
    "                                                                   from_year, to_year)\n",
    "# Sort in descending order and show top 5\n",
    "nuclear_rel_increase_bycountry.sort_values('nuclear_electricity_rel_inc_' + \\\n",
    "                                           str(from_year) + '_' + str(to_year), \\\n",
    "                                           axis=0,ascending=False).head()"
   ]
  },
  {
   "cell_type": "code",
   "execution_count": 99,
   "id": "91b0b67a",
   "metadata": {},
   "outputs": [
    {
     "data": {
      "text/html": [
       "<div>\n",
       "<style scoped>\n",
       "    .dataframe tbody tr th:only-of-type {\n",
       "        vertical-align: middle;\n",
       "    }\n",
       "\n",
       "    .dataframe tbody tr th {\n",
       "        vertical-align: top;\n",
       "    }\n",
       "\n",
       "    .dataframe thead th {\n",
       "        text-align: right;\n",
       "    }\n",
       "</style>\n",
       "<table border=\"1\" class=\"dataframe\">\n",
       "  <thead>\n",
       "    <tr style=\"text-align: right;\">\n",
       "      <th></th>\n",
       "      <th>nuclear_electricity_inc_2004_2014</th>\n",
       "    </tr>\n",
       "  </thead>\n",
       "  <tbody>\n",
       "    <tr>\n",
       "      <th>China</th>\n",
       "      <td>82069.0</td>\n",
       "    </tr>\n",
       "    <tr>\n",
       "      <th>Russian Federation</th>\n",
       "      <td>36050.0</td>\n",
       "    </tr>\n",
       "    <tr>\n",
       "      <th>Korea, Republic of</th>\n",
       "      <td>25692.0</td>\n",
       "    </tr>\n",
       "    <tr>\n",
       "      <th>India</th>\n",
       "      <td>19091.0</td>\n",
       "    </tr>\n",
       "    <tr>\n",
       "      <th>Canada</th>\n",
       "      <td>17291.0</td>\n",
       "    </tr>\n",
       "  </tbody>\n",
       "</table>\n",
       "</div>"
      ],
      "text/plain": [
       "                    nuclear_electricity_inc_2004_2014\n",
       "China                                         82069.0\n",
       "Russian Federation                            36050.0\n",
       "Korea, Republic of                            25692.0\n",
       "India                                         19091.0\n",
       "Canada                                        17291.0"
      ]
     },
     "execution_count": 99,
     "metadata": {},
     "output_type": "execute_result"
    }
   ],
   "source": [
    "nuclear_increase_bycountry = create_df_increase_by_country(df, \\\n",
    "                                                           'nuclear_electricity', \\\n",
    "                                                           list_of_countries, \\\n",
    "                                                           from_year, to_year)\n",
    "# Sort in descending order and show top 5\n",
    "nuclear_increase_bycountry.sort_values('nuclear_electricity_inc_' + \\\n",
    "                                       str(from_year) + '_' + str(to_year), \\\n",
    "                                       axis=0,ascending=False).head()"
   ]
  },
  {
   "cell_type": "markdown",
   "id": "b937926b",
   "metadata": {},
   "source": [
    "To obtain the pie chart with the top countries we use the procedure that we created before:"
   ]
  },
  {
   "cell_type": "code",
   "execution_count": 138,
   "id": "9a781bbf",
   "metadata": {},
   "outputs": [
    {
     "data": {
      "image/png": "[encoded data removed]",
      "text/plain": [
       "<Figure size 432x288 with 1 Axes>"
      ]
     },
     "metadata": {},
     "output_type": "display_data"
    }
   ],
   "source": [
    "plot_pie_top_countries(nuclear_increase_bycountry, 'nuclear_electricity', 7, from_year, to_year)"
   ]
  },
  {
   "cell_type": "markdown",
   "id": "1be9cfa1",
   "metadata": {},
   "source": [
    "We see that China leads the absolute top 5, and Hungary leads the relative top 5. It is interesting to see that at a time that overall the world was reducing nuclear energy, these countries were moving in a very different direction."
   ]
  },
  {
   "cell_type": "markdown",
   "id": "bd93bf74",
   "metadata": {},
   "source": [
    "Now, what about the countries that decreased nuclear production? For the relative difference we proceed on the same way as before, but now setting ascending parameter to True:"
   ]
  },
  {
   "cell_type": "code",
   "execution_count": 101,
   "id": "909a0537",
   "metadata": {},
   "outputs": [
    {
     "data": {
      "text/html": [
       "<div>\n",
       "<style scoped>\n",
       "    .dataframe tbody tr th:only-of-type {\n",
       "        vertical-align: middle;\n",
       "    }\n",
       "\n",
       "    .dataframe tbody tr th {\n",
       "        vertical-align: top;\n",
       "    }\n",
       "\n",
       "    .dataframe thead th {\n",
       "        text-align: right;\n",
       "    }\n",
       "</style>\n",
       "<table border=\"1\" class=\"dataframe\">\n",
       "  <thead>\n",
       "    <tr style=\"text-align: right;\">\n",
       "      <th></th>\n",
       "      <th>nuclear_electricity_rel_inc_2004_2014</th>\n",
       "    </tr>\n",
       "  </thead>\n",
       "  <tbody>\n",
       "    <tr>\n",
       "      <th>Japan</th>\n",
       "      <td>-0.271402</td>\n",
       "    </tr>\n",
       "    <tr>\n",
       "      <th>Belgium</th>\n",
       "      <td>-0.187225</td>\n",
       "    </tr>\n",
       "    <tr>\n",
       "      <th>Germany</th>\n",
       "      <td>-0.111399</td>\n",
       "    </tr>\n",
       "    <tr>\n",
       "      <th>Sweden</th>\n",
       "      <td>-0.082057</td>\n",
       "    </tr>\n",
       "    <tr>\n",
       "      <th>Slovakia</th>\n",
       "      <td>-0.055728</td>\n",
       "    </tr>\n",
       "  </tbody>\n",
       "</table>\n",
       "</div>"
      ],
      "text/plain": [
       "          nuclear_electricity_rel_inc_2004_2014\n",
       "Japan                                 -0.271402\n",
       "Belgium                               -0.187225\n",
       "Germany                               -0.111399\n",
       "Sweden                                -0.082057\n",
       "Slovakia                              -0.055728"
      ]
     },
     "execution_count": 101,
     "metadata": {},
     "output_type": "execute_result"
    }
   ],
   "source": [
    "# Sort in ascending order and show top 5\n",
    "nuclear_rel_increase_bycountry.sort_values('nuclear_electricity_rel_inc_' + \\\n",
    "                                           str(from_year) + '_' + str(to_year), \\\n",
    "                                           axis=0,ascending=True).head()"
   ]
  },
  {
   "cell_type": "markdown",
   "id": "d6970b7b",
   "metadata": {},
   "source": [
    "For the absolute difference we proceed in an analogous way, now taking into account only the negative values by means of setting the optional parameter top to False."
   ]
  },
  {
   "cell_type": "code",
   "execution_count": 136,
   "id": "2e994aea",
   "metadata": {},
   "outputs": [
    {
     "data": {
      "image/png": "[encoded data removed]",
      "text/plain": [
       "<Figure size 432x288 with 1 Axes>"
      ]
     },
     "metadata": {},
     "output_type": "display_data"
    }
   ],
   "source": [
    "plot_pie_top_countries(nuclear_increase_bycountry,'nuclear_electricity', 7, from_year, to_year, False)"
   ]
  },
  {
   "cell_type": "markdown",
   "id": "eaf52461",
   "metadata": {},
   "source": [
    "We see that Japan leads the countries dropping nuclear energy, followed by European countries which appear both in the absolute and relative top 5."
   ]
  },
  {
   "cell_type": "markdown",
   "id": "4505f1c9",
   "metadata": {},
   "source": [
    "## 4. What are the countries that have increased, and decreased, the most thermal production?"
   ]
  },
  {
   "cell_type": "markdown",
   "id": "a8cb88dc",
   "metadata": {},
   "source": [
    "In a similar way, for the top countries that have increased:"
   ]
  },
  {
   "cell_type": "code",
   "execution_count": 103,
   "id": "420f9966",
   "metadata": {},
   "outputs": [
    {
     "data": {
      "text/html": [
       "<div>\n",
       "<style scoped>\n",
       "    .dataframe tbody tr th:only-of-type {\n",
       "        vertical-align: middle;\n",
       "    }\n",
       "\n",
       "    .dataframe tbody tr th {\n",
       "        vertical-align: top;\n",
       "    }\n",
       "\n",
       "    .dataframe thead th {\n",
       "        text-align: right;\n",
       "    }\n",
       "</style>\n",
       "<table border=\"1\" class=\"dataframe\">\n",
       "  <thead>\n",
       "    <tr style=\"text-align: right;\">\n",
       "      <th></th>\n",
       "      <th>thermal_electricity_rel_inc_2004_2014</th>\n",
       "    </tr>\n",
       "  </thead>\n",
       "  <tbody>\n",
       "    <tr>\n",
       "      <th>Timor-Leste</th>\n",
       "      <td>0.808023</td>\n",
       "    </tr>\n",
       "    <tr>\n",
       "      <th>Guernsey</th>\n",
       "      <td>0.721268</td>\n",
       "    </tr>\n",
       "    <tr>\n",
       "      <th>Bahrain</th>\n",
       "      <td>0.689936</td>\n",
       "    </tr>\n",
       "    <tr>\n",
       "      <th>Qatar</th>\n",
       "      <td>0.657991</td>\n",
       "    </tr>\n",
       "    <tr>\n",
       "      <th>Jersey</th>\n",
       "      <td>0.657058</td>\n",
       "    </tr>\n",
       "  </tbody>\n",
       "</table>\n",
       "</div>"
      ],
      "text/plain": [
       "             thermal_electricity_rel_inc_2004_2014\n",
       "Timor-Leste                               0.808023\n",
       "Guernsey                                  0.721268\n",
       "Bahrain                                   0.689936\n",
       "Qatar                                     0.657991\n",
       "Jersey                                    0.657058"
      ]
     },
     "execution_count": 103,
     "metadata": {},
     "output_type": "execute_result"
    }
   ],
   "source": [
    "thermal_rel_increase_bycountry = create_df_rel_increase_by_country(df, \\\n",
    "                                                                   'thermal_electricity', \\\n",
    "                                                                   list_of_countries, \\\n",
    "                                                                   from_year, to_year)\n",
    "# Sort in descending order and show top 5\n",
    "thermal_rel_increase_bycountry.sort_values('thermal_electricity_rel_inc_' + \\\n",
    "                                           str(from_year) + '_' + str(to_year), \\\n",
    "                                           axis=0,ascending=False).head()"
   ]
  },
  {
   "cell_type": "code",
   "execution_count": 104,
   "id": "72ad3eb7",
   "metadata": {},
   "outputs": [
    {
     "data": {
      "text/html": [
       "<div>\n",
       "<style scoped>\n",
       "    .dataframe tbody tr th:only-of-type {\n",
       "        vertical-align: middle;\n",
       "    }\n",
       "\n",
       "    .dataframe tbody tr th {\n",
       "        vertical-align: top;\n",
       "    }\n",
       "\n",
       "    .dataframe thead th {\n",
       "        text-align: right;\n",
       "    }\n",
       "</style>\n",
       "<table border=\"1\" class=\"dataframe\">\n",
       "  <thead>\n",
       "    <tr style=\"text-align: right;\">\n",
       "      <th></th>\n",
       "      <th>thermal_electricity_inc_2004_2014</th>\n",
       "    </tr>\n",
       "  </thead>\n",
       "  <tbody>\n",
       "    <tr>\n",
       "      <th>China</th>\n",
       "      <td>2473061.2</td>\n",
       "    </tr>\n",
       "    <tr>\n",
       "      <th>India</th>\n",
       "      <td>551384.0</td>\n",
       "    </tr>\n",
       "    <tr>\n",
       "      <th>Japan</th>\n",
       "      <td>235644.0</td>\n",
       "    </tr>\n",
       "    <tr>\n",
       "      <th>Saudi Arabia</th>\n",
       "      <td>151930.0</td>\n",
       "    </tr>\n",
       "    <tr>\n",
       "      <th>Korea, Republic of</th>\n",
       "      <td>150000.0</td>\n",
       "    </tr>\n",
       "  </tbody>\n",
       "</table>\n",
       "</div>"
      ],
      "text/plain": [
       "                    thermal_electricity_inc_2004_2014\n",
       "China                                       2473061.2\n",
       "India                                        551384.0\n",
       "Japan                                        235644.0\n",
       "Saudi Arabia                                 151930.0\n",
       "Korea, Republic of                           150000.0"
      ]
     },
     "execution_count": 104,
     "metadata": {},
     "output_type": "execute_result"
    }
   ],
   "source": [
    "thermal_increase_bycountry = create_df_increase_by_country(df, \\\n",
    "                                                           'thermal_electricity', \\\n",
    "                                                           list_of_countries, \\\n",
    "                                                           from_year, to_year)\n",
    "# Sort in descending order and show top 5\n",
    "thermal_increase_bycountry.sort_values('thermal_electricity_inc_' + \\\n",
    "                                       str(from_year) + '_' + str(to_year), \\\n",
    "                                       axis=0,ascending=False).head()"
   ]
  },
  {
   "cell_type": "code",
   "execution_count": 142,
   "id": "570ce9e0",
   "metadata": {},
   "outputs": [
    {
     "data": {
      "image/png": "[encoded data removed]",
      "text/plain": [
       "<Figure size 432x288 with 1 Axes>"
      ]
     },
     "metadata": {},
     "output_type": "display_data"
    }
   ],
   "source": [
    "plot_pie_top_countries(thermal_increase_bycountry,'thermal_electricity', 7, from_year, to_year)"
   ]
  },
  {
   "cell_type": "markdown",
   "id": "d32aa448",
   "metadata": {},
   "source": [
    "And for the countries that have relatively decreased:"
   ]
  },
  {
   "cell_type": "code",
   "execution_count": 106,
   "id": "dfb31aef",
   "metadata": {},
   "outputs": [
    {
     "data": {
      "text/html": [
       "<div>\n",
       "<style scoped>\n",
       "    .dataframe tbody tr th:only-of-type {\n",
       "        vertical-align: middle;\n",
       "    }\n",
       "\n",
       "    .dataframe tbody tr th {\n",
       "        vertical-align: top;\n",
       "    }\n",
       "\n",
       "    .dataframe thead th {\n",
       "        text-align: right;\n",
       "    }\n",
       "</style>\n",
       "<table border=\"1\" class=\"dataframe\">\n",
       "  <thead>\n",
       "    <tr style=\"text-align: right;\">\n",
       "      <th></th>\n",
       "      <th>thermal_electricity_rel_inc_2004_2014</th>\n",
       "    </tr>\n",
       "  </thead>\n",
       "  <tbody>\n",
       "    <tr>\n",
       "      <th>China, Macao SAR</th>\n",
       "      <td>-2.078003</td>\n",
       "    </tr>\n",
       "    <tr>\n",
       "      <th>Jamaica</th>\n",
       "      <td>-0.771283</td>\n",
       "    </tr>\n",
       "    <tr>\n",
       "      <th>Luxembourg</th>\n",
       "      <td>-0.541625</td>\n",
       "    </tr>\n",
       "    <tr>\n",
       "      <th>Denmark</th>\n",
       "      <td>-0.476028</td>\n",
       "    </tr>\n",
       "    <tr>\n",
       "      <th>Palau</th>\n",
       "      <td>-0.437975</td>\n",
       "    </tr>\n",
       "  </tbody>\n",
       "</table>\n",
       "</div>"
      ],
      "text/plain": [
       "                  thermal_electricity_rel_inc_2004_2014\n",
       "China, Macao SAR                              -2.078003\n",
       "Jamaica                                       -0.771283\n",
       "Luxembourg                                    -0.541625\n",
       "Denmark                                       -0.476028\n",
       "Palau                                         -0.437975"
      ]
     },
     "execution_count": 106,
     "metadata": {},
     "output_type": "execute_result"
    }
   ],
   "source": [
    "# Sort in ascending order and show top 5\n",
    "thermal_rel_increase_bycountry.sort_values('thermal_electricity_rel_inc_' + \\\n",
    "                                           str(from_year) + '_' + str(to_year), \\\n",
    "                                           axis=0,ascending=True).head()"
   ]
  },
  {
   "cell_type": "markdown",
   "id": "c96a2562",
   "metadata": {},
   "source": [
    "And absolutely:"
   ]
  },
  {
   "cell_type": "code",
   "execution_count": 140,
   "id": "d8d3bb9f",
   "metadata": {},
   "outputs": [
    {
     "data": {
      "image/png": "[encoded data removed]",
      "text/plain": [
       "<Figure size 432x288 with 1 Axes>"
      ]
     },
     "metadata": {},
     "output_type": "display_data"
    }
   ],
   "source": [
    "plot_pie_top_countries(thermal_increase_bycountry,'thermal_electricity', 7, from_year, to_year, False)"
   ]
  },
  {
   "cell_type": "markdown",
   "id": "c5e0d5f3",
   "metadata": {},
   "source": [
    "Finally, thermal electricity relatively increased the most in developing countries such as Tanzania, Haiti, or Congo. Lithuania and Latvia, although they are not developing countries they were affected by the USSR meltdown and experienced large growth during that decade. However, China and India lead the top 5 of absolute increases.\n",
    "\n",
    "On the other hand we see decreases mostly in western countries. Although from the relative list we see that some developing countries such as Jamaica or Palau have largely reduced thermal energy production."
   ]
  },
  {
   "cell_type": "markdown",
   "id": "daa5a869",
   "metadata": {},
   "source": [
    "## 5. In what way population, and CO2 markets affect a transition to renewable energy?\n"
   ]
  },
  {
   "cell_type": "markdown",
   "id": "fa77909e",
   "metadata": {},
   "source": [
    "Now, to answer our final question, we first need to create a dataframe with the countries that have a CO2 emissions market."
   ]
  },
  {
   "cell_type": "code",
   "execution_count": 108,
   "id": "2ac3705f",
   "metadata": {},
   "outputs": [
    {
     "data": {
      "text/html": [
       "<div>\n",
       "<style scoped>\n",
       "    .dataframe tbody tr th:only-of-type {\n",
       "        vertical-align: middle;\n",
       "    }\n",
       "\n",
       "    .dataframe tbody tr th {\n",
       "        vertical-align: top;\n",
       "    }\n",
       "\n",
       "    .dataframe thead th {\n",
       "        text-align: right;\n",
       "    }\n",
       "</style>\n",
       "<table border=\"1\" class=\"dataframe\">\n",
       "  <thead>\n",
       "    <tr style=\"text-align: right;\">\n",
       "      <th></th>\n",
       "      <th>1998</th>\n",
       "      <th>1999</th>\n",
       "      <th>2000</th>\n",
       "      <th>2001</th>\n",
       "      <th>2002</th>\n",
       "      <th>2003</th>\n",
       "      <th>2004</th>\n",
       "      <th>2005</th>\n",
       "      <th>2006</th>\n",
       "      <th>2007</th>\n",
       "      <th>2008</th>\n",
       "      <th>2009</th>\n",
       "      <th>2010</th>\n",
       "      <th>2011</th>\n",
       "      <th>2012</th>\n",
       "      <th>2013</th>\n",
       "      <th>2014</th>\n",
       "    </tr>\n",
       "  </thead>\n",
       "  <tbody>\n",
       "    <tr>\n",
       "      <th>Austria</th>\n",
       "      <td>False</td>\n",
       "      <td>False</td>\n",
       "      <td>False</td>\n",
       "      <td>False</td>\n",
       "      <td>False</td>\n",
       "      <td>False</td>\n",
       "      <td>False</td>\n",
       "      <td>True</td>\n",
       "      <td>True</td>\n",
       "      <td>True</td>\n",
       "      <td>True</td>\n",
       "      <td>True</td>\n",
       "      <td>True</td>\n",
       "      <td>True</td>\n",
       "      <td>True</td>\n",
       "      <td>True</td>\n",
       "      <td>True</td>\n",
       "    </tr>\n",
       "    <tr>\n",
       "      <th>Belgium</th>\n",
       "      <td>False</td>\n",
       "      <td>False</td>\n",
       "      <td>False</td>\n",
       "      <td>False</td>\n",
       "      <td>False</td>\n",
       "      <td>False</td>\n",
       "      <td>False</td>\n",
       "      <td>True</td>\n",
       "      <td>True</td>\n",
       "      <td>True</td>\n",
       "      <td>True</td>\n",
       "      <td>True</td>\n",
       "      <td>True</td>\n",
       "      <td>True</td>\n",
       "      <td>True</td>\n",
       "      <td>True</td>\n",
       "      <td>True</td>\n",
       "    </tr>\n",
       "    <tr>\n",
       "      <th>Czechia</th>\n",
       "      <td>False</td>\n",
       "      <td>False</td>\n",
       "      <td>False</td>\n",
       "      <td>False</td>\n",
       "      <td>False</td>\n",
       "      <td>False</td>\n",
       "      <td>False</td>\n",
       "      <td>True</td>\n",
       "      <td>True</td>\n",
       "      <td>True</td>\n",
       "      <td>True</td>\n",
       "      <td>True</td>\n",
       "      <td>True</td>\n",
       "      <td>True</td>\n",
       "      <td>True</td>\n",
       "      <td>True</td>\n",
       "      <td>True</td>\n",
       "    </tr>\n",
       "    <tr>\n",
       "      <th>Finland</th>\n",
       "      <td>False</td>\n",
       "      <td>False</td>\n",
       "      <td>False</td>\n",
       "      <td>False</td>\n",
       "      <td>False</td>\n",
       "      <td>False</td>\n",
       "      <td>False</td>\n",
       "      <td>True</td>\n",
       "      <td>True</td>\n",
       "      <td>True</td>\n",
       "      <td>True</td>\n",
       "      <td>True</td>\n",
       "      <td>True</td>\n",
       "      <td>True</td>\n",
       "      <td>True</td>\n",
       "      <td>True</td>\n",
       "      <td>True</td>\n",
       "    </tr>\n",
       "    <tr>\n",
       "      <th>France</th>\n",
       "      <td>False</td>\n",
       "      <td>False</td>\n",
       "      <td>False</td>\n",
       "      <td>False</td>\n",
       "      <td>False</td>\n",
       "      <td>False</td>\n",
       "      <td>False</td>\n",
       "      <td>True</td>\n",
       "      <td>True</td>\n",
       "      <td>True</td>\n",
       "      <td>True</td>\n",
       "      <td>True</td>\n",
       "      <td>True</td>\n",
       "      <td>True</td>\n",
       "      <td>True</td>\n",
       "      <td>True</td>\n",
       "      <td>True</td>\n",
       "    </tr>\n",
       "    <tr>\n",
       "      <th>...</th>\n",
       "      <td>...</td>\n",
       "      <td>...</td>\n",
       "      <td>...</td>\n",
       "      <td>...</td>\n",
       "      <td>...</td>\n",
       "      <td>...</td>\n",
       "      <td>...</td>\n",
       "      <td>...</td>\n",
       "      <td>...</td>\n",
       "      <td>...</td>\n",
       "      <td>...</td>\n",
       "      <td>...</td>\n",
       "      <td>...</td>\n",
       "      <td>...</td>\n",
       "      <td>...</td>\n",
       "      <td>...</td>\n",
       "      <td>...</td>\n",
       "    </tr>\n",
       "    <tr>\n",
       "      <th>Tuvalu</th>\n",
       "      <td>False</td>\n",
       "      <td>False</td>\n",
       "      <td>False</td>\n",
       "      <td>False</td>\n",
       "      <td>False</td>\n",
       "      <td>False</td>\n",
       "      <td>False</td>\n",
       "      <td>False</td>\n",
       "      <td>False</td>\n",
       "      <td>False</td>\n",
       "      <td>False</td>\n",
       "      <td>False</td>\n",
       "      <td>False</td>\n",
       "      <td>False</td>\n",
       "      <td>False</td>\n",
       "      <td>False</td>\n",
       "      <td>False</td>\n",
       "    </tr>\n",
       "    <tr>\n",
       "      <th>United States Virgin Is.</th>\n",
       "      <td>False</td>\n",
       "      <td>False</td>\n",
       "      <td>False</td>\n",
       "      <td>False</td>\n",
       "      <td>False</td>\n",
       "      <td>False</td>\n",
       "      <td>False</td>\n",
       "      <td>False</td>\n",
       "      <td>False</td>\n",
       "      <td>False</td>\n",
       "      <td>False</td>\n",
       "      <td>False</td>\n",
       "      <td>False</td>\n",
       "      <td>False</td>\n",
       "      <td>False</td>\n",
       "      <td>False</td>\n",
       "      <td>False</td>\n",
       "    </tr>\n",
       "    <tr>\n",
       "      <th>Wallis and Futuna Is.</th>\n",
       "      <td>False</td>\n",
       "      <td>False</td>\n",
       "      <td>False</td>\n",
       "      <td>False</td>\n",
       "      <td>False</td>\n",
       "      <td>False</td>\n",
       "      <td>False</td>\n",
       "      <td>False</td>\n",
       "      <td>False</td>\n",
       "      <td>False</td>\n",
       "      <td>False</td>\n",
       "      <td>False</td>\n",
       "      <td>False</td>\n",
       "      <td>False</td>\n",
       "      <td>False</td>\n",
       "      <td>False</td>\n",
       "      <td>False</td>\n",
       "    </tr>\n",
       "    <tr>\n",
       "      <th>Commonwealth of Independent States (CIS)</th>\n",
       "      <td>False</td>\n",
       "      <td>False</td>\n",
       "      <td>False</td>\n",
       "      <td>False</td>\n",
       "      <td>False</td>\n",
       "      <td>False</td>\n",
       "      <td>False</td>\n",
       "      <td>False</td>\n",
       "      <td>False</td>\n",
       "      <td>False</td>\n",
       "      <td>False</td>\n",
       "      <td>False</td>\n",
       "      <td>False</td>\n",
       "      <td>False</td>\n",
       "      <td>False</td>\n",
       "      <td>False</td>\n",
       "      <td>False</td>\n",
       "    </tr>\n",
       "    <tr>\n",
       "      <th>Antarctic Fisheries</th>\n",
       "      <td>False</td>\n",
       "      <td>False</td>\n",
       "      <td>False</td>\n",
       "      <td>False</td>\n",
       "      <td>False</td>\n",
       "      <td>False</td>\n",
       "      <td>False</td>\n",
       "      <td>False</td>\n",
       "      <td>False</td>\n",
       "      <td>False</td>\n",
       "      <td>False</td>\n",
       "      <td>False</td>\n",
       "      <td>False</td>\n",
       "      <td>False</td>\n",
       "      <td>False</td>\n",
       "      <td>False</td>\n",
       "      <td>False</td>\n",
       "    </tr>\n",
       "  </tbody>\n",
       "</table>\n",
       "<p>243 rows × 17 columns</p>\n",
       "</div>"
      ],
      "text/plain": [
       "                                           1998   1999   2000   2001   2002  \\\n",
       "Austria                                   False  False  False  False  False   \n",
       "Belgium                                   False  False  False  False  False   \n",
       "Czechia                                   False  False  False  False  False   \n",
       "Finland                                   False  False  False  False  False   \n",
       "France                                    False  False  False  False  False   \n",
       "...                                         ...    ...    ...    ...    ...   \n",
       "Tuvalu                                    False  False  False  False  False   \n",
       "United States Virgin Is.                  False  False  False  False  False   \n",
       "Wallis and Futuna Is.                     False  False  False  False  False   \n",
       "Commonwealth of Independent States (CIS)  False  False  False  False  False   \n",
       "Antarctic Fisheries                       False  False  False  False  False   \n",
       "\n",
       "                                           2003   2004   2005   2006   2007  \\\n",
       "Austria                                   False  False   True   True   True   \n",
       "Belgium                                   False  False   True   True   True   \n",
       "Czechia                                   False  False   True   True   True   \n",
       "Finland                                   False  False   True   True   True   \n",
       "France                                    False  False   True   True   True   \n",
       "...                                         ...    ...    ...    ...    ...   \n",
       "Tuvalu                                    False  False  False  False  False   \n",
       "United States Virgin Is.                  False  False  False  False  False   \n",
       "Wallis and Futuna Is.                     False  False  False  False  False   \n",
       "Commonwealth of Independent States (CIS)  False  False  False  False  False   \n",
       "Antarctic Fisheries                       False  False  False  False  False   \n",
       "\n",
       "                                           2008   2009   2010   2011   2012  \\\n",
       "Austria                                    True   True   True   True   True   \n",
       "Belgium                                    True   True   True   True   True   \n",
       "Czechia                                    True   True   True   True   True   \n",
       "Finland                                    True   True   True   True   True   \n",
       "France                                     True   True   True   True   True   \n",
       "...                                         ...    ...    ...    ...    ...   \n",
       "Tuvalu                                    False  False  False  False  False   \n",
       "United States Virgin Is.                  False  False  False  False  False   \n",
       "Wallis and Futuna Is.                     False  False  False  False  False   \n",
       "Commonwealth of Independent States (CIS)  False  False  False  False  False   \n",
       "Antarctic Fisheries                       False  False  False  False  False   \n",
       "\n",
       "                                           2013   2014  \n",
       "Austria                                    True   True  \n",
       "Belgium                                    True   True  \n",
       "Czechia                                    True   True  \n",
       "Finland                                    True   True  \n",
       "France                                     True   True  \n",
       "...                                         ...    ...  \n",
       "Tuvalu                                    False  False  \n",
       "United States Virgin Is.                  False  False  \n",
       "Wallis and Futuna Is.                     False  False  \n",
       "Commonwealth of Independent States (CIS)  False  False  \n",
       "Antarctic Fisheries                       False  False  \n",
       "\n",
       "[243 rows x 17 columns]"
      ]
     },
     "execution_count": 108,
     "metadata": {},
     "output_type": "execute_result"
    }
   ],
   "source": [
    "is_co2market = pd.DataFrame(np.full((len(list_of_countries),17),False), \\\n",
    "                            columns=range(1998,2015), index=list_of_countries)\n",
    "\n",
    "EU_preETS = ['Austria','Belgium','Denmark','Finland','France','Germany','Greece',\n",
    "               'Ireland','Italy','Luxembourg','Netherlands','Portugal','Spain','Sweden',\n",
    "              'Cyprus','Czechia','Estonia','Hungary','Latvia','Lithuania','Malta','Poland',\n",
    "               'Slovakia','Slovenia']\n",
    "\n",
    "countries_2003 = ['Australia']\n",
    "countries_2007 = ['Bulgaria','Romania','Canada']\n",
    "countries_2008 = ['New Zealand']\n",
    "countries_2009 = ['United States']\n",
    "countries_2010 = ['Japan']\n",
    "\n",
    "EU_2013 = ['Croatia']\n",
    "\n",
    "for country in EU_preETS:\n",
    "    is_co2market.loc[country,range(2005,2015)]=np.full(10,True)\n",
    "    \n",
    "for country in countries_2003:\n",
    "    is_co2market.loc[country,range(2003,2015)]=np.full(12,True)\n",
    "\n",
    "for country in countries_2007:\n",
    "    is_co2market.loc[country,range(2007,2015)]=np.full(8,True)\n",
    "    \n",
    "for country in countries_2008:\n",
    "    is_co2market.loc[country,range(2008,2015)]=np.full(7,True)\n",
    "    \n",
    "for country in countries_2009:\n",
    "    is_co2market.loc[country,range(2009,2015)]=np.full(6,True)\n",
    "    \n",
    "for country in countries_2010:\n",
    "    is_co2market.loc[country,range(2010,2015)]=np.full(5,True)\n",
    "\n",
    "\n",
    "for country in EU_2013:\n",
    "    is_co2market.loc[country,range(2013,2015)]=True\n",
    "    \n",
    "is_co2market"
   ]
  },
  {
   "cell_type": "markdown",
   "id": "518c16d7",
   "metadata": {},
   "source": [
    "We also need to read another file with the population of the different countries. To inspect it we'll show the head of it."
   ]
  },
  {
   "cell_type": "code",
   "execution_count": 109,
   "id": "ff1ae74f",
   "metadata": {},
   "outputs": [],
   "source": [
    "df_population = pd.read_csv('./Population.csv')"
   ]
  },
  {
   "cell_type": "code",
   "execution_count": 110,
   "id": "559d581e",
   "metadata": {},
   "outputs": [
    {
     "data": {
      "text/html": [
       "<div>\n",
       "<style scoped>\n",
       "    .dataframe tbody tr th:only-of-type {\n",
       "        vertical-align: middle;\n",
       "    }\n",
       "\n",
       "    .dataframe tbody tr th {\n",
       "        vertical-align: top;\n",
       "    }\n",
       "\n",
       "    .dataframe thead th {\n",
       "        text-align: right;\n",
       "    }\n",
       "</style>\n",
       "<table border=\"1\" class=\"dataframe\">\n",
       "  <thead>\n",
       "    <tr style=\"text-align: right;\">\n",
       "      <th></th>\n",
       "      <th>Series Name</th>\n",
       "      <th>Series Code</th>\n",
       "      <th>Country Name</th>\n",
       "      <th>Country Code</th>\n",
       "      <th>2002 [YR2002]</th>\n",
       "      <th>2003 [YR2003]</th>\n",
       "      <th>2004 [YR2004]</th>\n",
       "      <th>2005 [YR2005]</th>\n",
       "      <th>2006 [YR2006]</th>\n",
       "      <th>2007 [YR2007]</th>\n",
       "      <th>...</th>\n",
       "      <th>2012 [YR2012]</th>\n",
       "      <th>2013 [YR2013]</th>\n",
       "      <th>2014 [YR2014]</th>\n",
       "      <th>2015 [YR2015]</th>\n",
       "      <th>2016 [YR2016]</th>\n",
       "      <th>2017 [YR2017]</th>\n",
       "      <th>2018 [YR2018]</th>\n",
       "      <th>2019 [YR2019]</th>\n",
       "      <th>2020 [YR2020]</th>\n",
       "      <th>2021 [YR2021]</th>\n",
       "    </tr>\n",
       "  </thead>\n",
       "  <tbody>\n",
       "    <tr>\n",
       "      <th>0</th>\n",
       "      <td>Population, total</td>\n",
       "      <td>SP.POP.TOTL</td>\n",
       "      <td>Afghanistan</td>\n",
       "      <td>AFG</td>\n",
       "      <td>22600774</td>\n",
       "      <td>23680871</td>\n",
       "      <td>24726689</td>\n",
       "      <td>25654274</td>\n",
       "      <td>26433058</td>\n",
       "      <td>27100542</td>\n",
       "      <td>...</td>\n",
       "      <td>31161378</td>\n",
       "      <td>32269592</td>\n",
       "      <td>33370804</td>\n",
       "      <td>34413603</td>\n",
       "      <td>35383028</td>\n",
       "      <td>36296111</td>\n",
       "      <td>37171922</td>\n",
       "      <td>38041757</td>\n",
       "      <td>38928341</td>\n",
       "      <td>..</td>\n",
       "    </tr>\n",
       "    <tr>\n",
       "      <th>1</th>\n",
       "      <td>Population, total</td>\n",
       "      <td>SP.POP.TOTL</td>\n",
       "      <td>Africa Eastern and Southern</td>\n",
       "      <td>AFE</td>\n",
       "      <td>419223717</td>\n",
       "      <td>430246635</td>\n",
       "      <td>441630149</td>\n",
       "      <td>453404076</td>\n",
       "      <td>465581372</td>\n",
       "      <td>478166911</td>\n",
       "      <td>...</td>\n",
       "      <td>547482863</td>\n",
       "      <td>562601578</td>\n",
       "      <td>578075373</td>\n",
       "      <td>593871847</td>\n",
       "      <td>609978946</td>\n",
       "      <td>626392880</td>\n",
       "      <td>643090131</td>\n",
       "      <td>660046272</td>\n",
       "      <td>677243299</td>\n",
       "      <td>..</td>\n",
       "    </tr>\n",
       "    <tr>\n",
       "      <th>2</th>\n",
       "      <td>Population, total</td>\n",
       "      <td>SP.POP.TOTL</td>\n",
       "      <td>Africa Western and Central</td>\n",
       "      <td>AFW</td>\n",
       "      <td>281842480</td>\n",
       "      <td>289469530</td>\n",
       "      <td>297353098</td>\n",
       "      <td>305520588</td>\n",
       "      <td>313985474</td>\n",
       "      <td>322741656</td>\n",
       "      <td>...</td>\n",
       "      <td>370243017</td>\n",
       "      <td>380437896</td>\n",
       "      <td>390882979</td>\n",
       "      <td>401586651</td>\n",
       "      <td>412551299</td>\n",
       "      <td>423769930</td>\n",
       "      <td>435229381</td>\n",
       "      <td>446911598</td>\n",
       "      <td>458803476</td>\n",
       "      <td>..</td>\n",
       "    </tr>\n",
       "    <tr>\n",
       "      <th>3</th>\n",
       "      <td>Population, total</td>\n",
       "      <td>SP.POP.TOTL</td>\n",
       "      <td>Albania</td>\n",
       "      <td>ALB</td>\n",
       "      <td>3051010</td>\n",
       "      <td>3039616</td>\n",
       "      <td>3026939</td>\n",
       "      <td>3011487</td>\n",
       "      <td>2992547</td>\n",
       "      <td>2970017</td>\n",
       "      <td>...</td>\n",
       "      <td>2900401</td>\n",
       "      <td>2895092</td>\n",
       "      <td>2889104</td>\n",
       "      <td>2880703</td>\n",
       "      <td>2876101</td>\n",
       "      <td>2873457</td>\n",
       "      <td>2866376</td>\n",
       "      <td>2854191</td>\n",
       "      <td>2837743</td>\n",
       "      <td>..</td>\n",
       "    </tr>\n",
       "    <tr>\n",
       "      <th>4</th>\n",
       "      <td>Population, total</td>\n",
       "      <td>SP.POP.TOTL</td>\n",
       "      <td>Algeria</td>\n",
       "      <td>DZA</td>\n",
       "      <td>31855110</td>\n",
       "      <td>32264159</td>\n",
       "      <td>32692153</td>\n",
       "      <td>33149720</td>\n",
       "      <td>33641007</td>\n",
       "      <td>34166976</td>\n",
       "      <td>...</td>\n",
       "      <td>37383899</td>\n",
       "      <td>38140135</td>\n",
       "      <td>38923688</td>\n",
       "      <td>39728020</td>\n",
       "      <td>40551398</td>\n",
       "      <td>41389174</td>\n",
       "      <td>42228415</td>\n",
       "      <td>43053054</td>\n",
       "      <td>43851043</td>\n",
       "      <td>..</td>\n",
       "    </tr>\n",
       "  </tbody>\n",
       "</table>\n",
       "<p>5 rows × 24 columns</p>\n",
       "</div>"
      ],
      "text/plain": [
       "         Series Name  Series Code                 Country Name Country Code  \\\n",
       "0  Population, total  SP.POP.TOTL                  Afghanistan          AFG   \n",
       "1  Population, total  SP.POP.TOTL  Africa Eastern and Southern          AFE   \n",
       "2  Population, total  SP.POP.TOTL   Africa Western and Central          AFW   \n",
       "3  Population, total  SP.POP.TOTL                      Albania          ALB   \n",
       "4  Population, total  SP.POP.TOTL                      Algeria          DZA   \n",
       "\n",
       "  2002 [YR2002] 2003 [YR2003] 2004 [YR2004] 2005 [YR2005] 2006 [YR2006]  \\\n",
       "0      22600774      23680871      24726689      25654274      26433058   \n",
       "1     419223717     430246635     441630149     453404076     465581372   \n",
       "2     281842480     289469530     297353098     305520588     313985474   \n",
       "3       3051010       3039616       3026939       3011487       2992547   \n",
       "4      31855110      32264159      32692153      33149720      33641007   \n",
       "\n",
       "  2007 [YR2007]  ... 2012 [YR2012] 2013 [YR2013] 2014 [YR2014] 2015 [YR2015]  \\\n",
       "0      27100542  ...      31161378      32269592      33370804      34413603   \n",
       "1     478166911  ...     547482863     562601578     578075373     593871847   \n",
       "2     322741656  ...     370243017     380437896     390882979     401586651   \n",
       "3       2970017  ...       2900401       2895092       2889104       2880703   \n",
       "4      34166976  ...      37383899      38140135      38923688      39728020   \n",
       "\n",
       "  2016 [YR2016] 2017 [YR2017] 2018 [YR2018] 2019 [YR2019] 2020 [YR2020]  \\\n",
       "0      35383028      36296111      37171922      38041757      38928341   \n",
       "1     609978946     626392880     643090131     660046272     677243299   \n",
       "2     412551299     423769930     435229381     446911598     458803476   \n",
       "3       2876101       2873457       2866376       2854191       2837743   \n",
       "4      40551398      41389174      42228415      43053054      43851043   \n",
       "\n",
       "  2021 [YR2021]  \n",
       "0            ..  \n",
       "1            ..  \n",
       "2            ..  \n",
       "3            ..  \n",
       "4            ..  \n",
       "\n",
       "[5 rows x 24 columns]"
      ]
     },
     "execution_count": 110,
     "metadata": {},
     "output_type": "execute_result"
    }
   ],
   "source": [
    "df_population.head()"
   ]
  },
  {
   "cell_type": "markdown",
   "id": "6b42f604",
   "metadata": {},
   "source": [
    "Let's create a dataframe with the current population, taking only year 2020."
   ]
  },
  {
   "cell_type": "code",
   "execution_count": 111,
   "id": "d087fe82",
   "metadata": {},
   "outputs": [],
   "source": [
    "population_bycountry = pd.DataFrame(columns=[])\n",
    "\n",
    "for country in df_population['Country Name'].unique():\n",
    "\n",
    "    try:\n",
    "        value = df_population[df_population['Country Name']==country]['2020 [YR2020]'].values[0]\n",
    "        population_bycountry=pd.concat([population_bycountry,pd.DataFrame({'population': value}, \\\n",
    "                                                                          index=[country])], axis=0)\n",
    "\n",
    "    except:\n",
    "        population_bycountry=pd.concat([population_bycountry,pd.DataFrame({'population': pd.NA}, \\\n",
    "                                                                          index=[country])], axis=0)"
   ]
  },
  {
   "cell_type": "markdown",
   "id": "8c7ecae7",
   "metadata": {},
   "source": [
    "Now, let's create two functions to compute the relative and absolute increment of population given a set of two different years."
   ]
  },
  {
   "cell_type": "code",
   "execution_count": 112,
   "id": "a877d12e",
   "metadata": {},
   "outputs": [],
   "source": [
    "def create_df_population_inc_by_country(df, from_year, to_year):\n",
    "    \"\"\"\n",
    "    Function that returns a DataFrame with the difference of population in an interval of years.\n",
    "    \n",
    "    Input:\n",
    "    - df: Dataframe that is used to compute the relative difference.\n",
    "    - int from_year: Start year of the interval.\n",
    "    - int to_year: End year of the interval.\n",
    "    \n",
    "    Output:\n",
    "    - population_inc_by_country: Dataframe with columns: Country, Increment.\n",
    "    \"\"\"\n",
    "    \n",
    "    population_inc_bycountry = pd.DataFrame(columns=[])\n",
    "\n",
    "    for country in df_population['Country Name'].unique():\n",
    "\n",
    "        try:\n",
    "            population_new = int(df_population[df_population['Country Name']==country] \\\n",
    "                                 [str(to_year) + ' [YR' + str(to_year) + ']'].values[0])\n",
    "            population_old = int(df_population[df_population['Country Name']==country] \\\n",
    "                                 [str(from_year) + ' [YR' + str(from_year) + ']'].values[0])\n",
    "            \n",
    "            value = population_new - population_old\n",
    "                                                                           \n",
    "            population_inc_bycountry=pd.concat([population_inc_bycountry, \\\n",
    "                                                pd.DataFrame({'population_inc_' + \\\n",
    "                                                              str(from_year) + '_' + str(to_year): value}, \\\n",
    "                                                index=[country])], axis=0)\n",
    "\n",
    "        except:\n",
    "            population_inc_bycountry=pd.concat([population_inc_bycountry, \\\n",
    "                                                pd.DataFrame({'population_inc_' + \\\n",
    "                                                              str(from_year) + '_' + str(to_year): pd.NA}, \\\n",
    "                                                index=[country])], axis=0)\n",
    "            \n",
    "    return population_inc_bycountry\n"
   ]
  },
  {
   "cell_type": "code",
   "execution_count": 113,
   "id": "041b46fb",
   "metadata": {},
   "outputs": [],
   "source": [
    "def create_df_population_rel_inc_by_country(df, from_year, to_year):\n",
    "    \"\"\"\n",
    "    Function that returns a DataFrame with the relative difference of population in an interval of years.\n",
    "    \n",
    "    Input:\n",
    "    - df: Dataframe that is used to compute the relative difference.\n",
    "    - int from_year: Start year of the interval.\n",
    "    - int to_year: End year of the interval.\n",
    "    \n",
    "    Output:\n",
    "    - population_rel_inc_by_country: Dataframe with columns: Country, Increment.\n",
    "    \"\"\"\n",
    "    \n",
    "    population_rel_inc_bycountry = pd.DataFrame(columns=[])\n",
    "    \n",
    "    for country in df_population['Country Name'].unique():\n",
    "\n",
    "        try:\n",
    "            population_new = int(df_population[df_population['Country Name']==country] \\\n",
    "                                 [str(to_year) + ' [YR' + str(to_year) + ']'].values[0])\n",
    "            population_old = int(df_population[df_population['Country Name']==country] \\\n",
    "                                 [str(from_year) + ' [YR' + str(from_year) + ']'].values[0])\n",
    "            \n",
    "            value = (population_new - population_old) / population_old\n",
    "                                                                           \n",
    "            population_rel_inc_bycountry=pd.concat([population_rel_inc_bycountry, \\\n",
    "                                                    pd.DataFrame({'population_rel_inc_' + \\\n",
    "                                                                  str(from_year) + '_' + str(to_year): value}, \\\n",
    "                                                    index=[country])], axis=0)\n",
    "\n",
    "        except:\n",
    "            population_rel_inc_bycountry=pd.concat([population_rel_inc_bycountry, \\\n",
    "                                                    pd.DataFrame({'population_rel_inc_' + \\\n",
    "                                                                  str(from_year) + '_' + str(to_year): pd.NA}, \\\n",
    "                                                    index=[country])], axis=0)\n",
    "            \n",
    "    return population_rel_inc_bycountry"
   ]
  },
  {
   "cell_type": "markdown",
   "id": "ced5e3c5",
   "metadata": {},
   "source": [
    "We run this two functions for the interval that we are studying."
   ]
  },
  {
   "cell_type": "code",
   "execution_count": 114,
   "id": "2a6282f9",
   "metadata": {},
   "outputs": [],
   "source": [
    "population_increase_bycountry = create_df_population_inc_by_country(df_population, from_year, to_year)"
   ]
  },
  {
   "cell_type": "code",
   "execution_count": 115,
   "id": "bd8633b4",
   "metadata": {},
   "outputs": [],
   "source": [
    "population_rel_increase_bycountry = create_df_population_rel_inc_by_country(df_population, from_year, to_year)"
   ]
  },
  {
   "cell_type": "markdown",
   "id": "e4f4827f",
   "metadata": {},
   "source": [
    "Now let's join the following into one dataframe df_all:\n",
    "- Boolean variable representing if there was or there was not a CO2 trading market in place three years before the last year of the interval that we are studying.\n",
    "- All the different energy sources increases, we still need to compute some.\n",
    "- Population in the middle of the interval.\n",
    "- Population relative increase during the interval."
   ]
  },
  {
   "cell_type": "code",
   "execution_count": 116,
   "id": "4f48dfe7",
   "metadata": {},
   "outputs": [],
   "source": [
    "middle_year = from_year + (to_year - from_year)//2"
   ]
  },
  {
   "cell_type": "markdown",
   "id": "ca9324d0",
   "metadata": {},
   "source": [
    "Let's compute the increases for solar, hydro, geothermal, and marine:"
   ]
  },
  {
   "cell_type": "code",
   "execution_count": 117,
   "id": "c484780a",
   "metadata": {},
   "outputs": [],
   "source": [
    "solar_increase_bycountry = create_df_increase_by_country(df, 'solar_electricity', \\\n",
    "                                                         list_of_countries, from_year, to_year)\n",
    "hydro_increase_bycountry = create_df_increase_by_country(df, 'hydro', \\\n",
    "                                                         list_of_countries, from_year, to_year)\n",
    "geothermal_increase_bycountry = create_df_increase_by_country(df, 'geothermal', \\\n",
    "                                                              list_of_countries, from_year, to_year)\n",
    "marine_increase_bycountry = create_df_increase_by_country(df, 'marine', \\\n",
    "                                                          list_of_countries, from_year, to_year)"
   ]
  },
  {
   "cell_type": "code",
   "execution_count": 118,
   "id": "d4772325",
   "metadata": {},
   "outputs": [],
   "source": [
    "solar_rel_increase_bycountry = create_df_rel_increase_by_country(df, 'solar_electricity', \\\n",
    "                                                                 list_of_countries, from_year, to_year)\n",
    "hydro_rel_increase_bycountry = create_df_rel_increase_by_country(df, 'hydro', \\\n",
    "                                                                 list_of_countries, from_year, to_year)\n",
    "geothermal_rel_increase_bycountry = create_df_rel_increase_by_country(df, 'geothermal', \\\n",
    "                                                                      list_of_countries, from_year, to_year)\n",
    "marine_rel_increase_bycountry = create_df_rel_increase_by_country(df, 'marine', \\\n",
    "                                                                  list_of_countries, from_year, to_year)"
   ]
  },
  {
   "cell_type": "code",
   "execution_count": 119,
   "id": "1d3a0088",
   "metadata": {},
   "outputs": [
    {
     "data": {
      "text/plain": [
       "2009"
      ]
     },
     "execution_count": 119,
     "metadata": {},
     "output_type": "execute_result"
    }
   ],
   "source": [
    "middle_year"
   ]
  },
  {
   "cell_type": "code",
   "execution_count": 120,
   "id": "ba230427",
   "metadata": {},
   "outputs": [],
   "source": [
    "df_all = population_bycountry.join(population_rel_increase_bycountry)\n",
    "\n",
    "list_data = [\n",
    "    is_co2market[middle_year],\n",
    "    solar_increase_bycountry,\n",
    "    solar_rel_increase_bycountry,\n",
    "    thermal_increase_bycountry,\n",
    "    thermal_rel_increase_bycountry,\n",
    "    geothermal_increase_bycountry,\n",
    "    geothermal_rel_increase_bycountry,\n",
    "    hydro_increase_bycountry,\n",
    "    hydro_rel_increase_bycountry,\n",
    "    wind_increase_bycountry,\n",
    "    wind_rel_increase_bycountry,\n",
    "    nuclear_increase_bycountry,\n",
    "    nuclear_rel_increase_bycountry,\n",
    "    marine_increase_bycountry,\n",
    "    marine_rel_increase_bycountry,    \n",
    "]\n",
    "\n",
    "for data in list_data:\n",
    "    \n",
    "    df_all = df_all.join(data)"
   ]
  },
  {
   "cell_type": "markdown",
   "id": "2c19768c",
   "metadata": {},
   "source": [
    "We rename some columns and drop all the rows with no values at thermal electricity increment. We choose thermal electricity because it is the most conventional form of energy. Our aim is to isolate the rows that have energy data. Others might be regions, or countries not contained in the energy dataset."
   ]
  },
  {
   "cell_type": "code",
   "execution_count": 121,
   "id": "febff7a3",
   "metadata": {},
   "outputs": [],
   "source": [
    "df_all=df_all.rename(columns={middle_year: 'is_co2market_' + str(middle_year)})\n",
    "df_all=df_all.dropna(subset=['thermal_electricity_inc_' + str(from_year) + '_' + str(to_year)], axis=0)"
   ]
  },
  {
   "cell_type": "code",
   "execution_count": 122,
   "id": "499fdda1",
   "metadata": {},
   "outputs": [
    {
     "data": {
      "text/html": [
       "<div>\n",
       "<style scoped>\n",
       "    .dataframe tbody tr th:only-of-type {\n",
       "        vertical-align: middle;\n",
       "    }\n",
       "\n",
       "    .dataframe tbody tr th {\n",
       "        vertical-align: top;\n",
       "    }\n",
       "\n",
       "    .dataframe thead th {\n",
       "        text-align: right;\n",
       "    }\n",
       "</style>\n",
       "<table border=\"1\" class=\"dataframe\">\n",
       "  <thead>\n",
       "    <tr style=\"text-align: right;\">\n",
       "      <th></th>\n",
       "      <th>population</th>\n",
       "      <th>population_rel_inc_2004_2014</th>\n",
       "      <th>is_co2market_2009</th>\n",
       "      <th>solar_electricity_inc_2004_2014</th>\n",
       "      <th>solar_electricity_rel_inc_2004_2014</th>\n",
       "      <th>thermal_electricity_inc_2004_2014</th>\n",
       "      <th>thermal_electricity_rel_inc_2004_2014</th>\n",
       "      <th>geothermal_inc_2004_2014</th>\n",
       "      <th>geothermal_rel_inc_2004_2014</th>\n",
       "      <th>hydro_inc_2004_2014</th>\n",
       "      <th>hydro_rel_inc_2004_2014</th>\n",
       "      <th>wind_electricity_inc_2004_2014</th>\n",
       "      <th>wind_electricity_rel_inc_2004_2014</th>\n",
       "      <th>nuclear_electricity_inc_2004_2014</th>\n",
       "      <th>nuclear_electricity_rel_inc_2004_2014</th>\n",
       "      <th>marine_inc_2004_2014</th>\n",
       "      <th>marine_rel_inc_2004_2014</th>\n",
       "    </tr>\n",
       "  </thead>\n",
       "  <tbody>\n",
       "    <tr>\n",
       "      <th>Afghanistan</th>\n",
       "      <td>38928341</td>\n",
       "      <td>0.349586</td>\n",
       "      <td>False</td>\n",
       "      <td>NaN</td>\n",
       "      <td>NaN</td>\n",
       "      <td>-61.000</td>\n",
       "      <td>-0.058134</td>\n",
       "      <td>NaN</td>\n",
       "      <td>NaN</td>\n",
       "      <td>330.30</td>\n",
       "      <td>0.314781</td>\n",
       "      <td>NaN</td>\n",
       "      <td>NaN</td>\n",
       "      <td>NaN</td>\n",
       "      <td>NaN</td>\n",
       "      <td>NaN</td>\n",
       "      <td>NaN</td>\n",
       "    </tr>\n",
       "    <tr>\n",
       "      <th>Algeria</th>\n",
       "      <td>43851043</td>\n",
       "      <td>0.190613</td>\n",
       "      <td>False</td>\n",
       "      <td>NaN</td>\n",
       "      <td>NaN</td>\n",
       "      <td>32989.000</td>\n",
       "      <td>0.513511</td>\n",
       "      <td>NaN</td>\n",
       "      <td>NaN</td>\n",
       "      <td>3.00</td>\n",
       "      <td>0.000047</td>\n",
       "      <td>NaN</td>\n",
       "      <td>NaN</td>\n",
       "      <td>NaN</td>\n",
       "      <td>NaN</td>\n",
       "      <td>NaN</td>\n",
       "      <td>NaN</td>\n",
       "    </tr>\n",
       "    <tr>\n",
       "      <th>American Samoa</th>\n",
       "      <td>55197</td>\n",
       "      <td>-0.065227</td>\n",
       "      <td>False</td>\n",
       "      <td>NaN</td>\n",
       "      <td>NaN</td>\n",
       "      <td>-32.255</td>\n",
       "      <td>-0.205518</td>\n",
       "      <td>NaN</td>\n",
       "      <td>NaN</td>\n",
       "      <td>NaN</td>\n",
       "      <td>NaN</td>\n",
       "      <td>NaN</td>\n",
       "      <td>NaN</td>\n",
       "      <td>NaN</td>\n",
       "      <td>NaN</td>\n",
       "      <td>NaN</td>\n",
       "      <td>NaN</td>\n",
       "    </tr>\n",
       "    <tr>\n",
       "      <th>Andorra</th>\n",
       "      <td>77265</td>\n",
       "      <td>0.038859</td>\n",
       "      <td>False</td>\n",
       "      <td>NaN</td>\n",
       "      <td>NaN</td>\n",
       "      <td>12.400</td>\n",
       "      <td>0.097792</td>\n",
       "      <td>NaN</td>\n",
       "      <td>NaN</td>\n",
       "      <td>20.40</td>\n",
       "      <td>0.160883</td>\n",
       "      <td>NaN</td>\n",
       "      <td>NaN</td>\n",
       "      <td>NaN</td>\n",
       "      <td>NaN</td>\n",
       "      <td>NaN</td>\n",
       "      <td>NaN</td>\n",
       "    </tr>\n",
       "    <tr>\n",
       "      <th>Angola</th>\n",
       "      <td>32866268</td>\n",
       "      <td>0.436271</td>\n",
       "      <td>False</td>\n",
       "      <td>NaN</td>\n",
       "      <td>NaN</td>\n",
       "      <td>3949.000</td>\n",
       "      <td>0.416561</td>\n",
       "      <td>NaN</td>\n",
       "      <td>NaN</td>\n",
       "      <td>3291.00</td>\n",
       "      <td>0.347152</td>\n",
       "      <td>NaN</td>\n",
       "      <td>NaN</td>\n",
       "      <td>NaN</td>\n",
       "      <td>NaN</td>\n",
       "      <td>NaN</td>\n",
       "      <td>NaN</td>\n",
       "    </tr>\n",
       "    <tr>\n",
       "      <th>...</th>\n",
       "      <td>...</td>\n",
       "      <td>...</td>\n",
       "      <td>...</td>\n",
       "      <td>...</td>\n",
       "      <td>...</td>\n",
       "      <td>...</td>\n",
       "      <td>...</td>\n",
       "      <td>...</td>\n",
       "      <td>...</td>\n",
       "      <td>...</td>\n",
       "      <td>...</td>\n",
       "      <td>...</td>\n",
       "      <td>...</td>\n",
       "      <td>...</td>\n",
       "      <td>...</td>\n",
       "      <td>...</td>\n",
       "      <td>...</td>\n",
       "    </tr>\n",
       "    <tr>\n",
       "      <th>Uruguay</th>\n",
       "      <td>3473727</td>\n",
       "      <td>0.023770</td>\n",
       "      <td>False</td>\n",
       "      <td>NaN</td>\n",
       "      <td>NaN</td>\n",
       "      <td>1504.000</td>\n",
       "      <td>0.115620</td>\n",
       "      <td>NaN</td>\n",
       "      <td>NaN</td>\n",
       "      <td>4869.10</td>\n",
       "      <td>0.374313</td>\n",
       "      <td>NaN</td>\n",
       "      <td>NaN</td>\n",
       "      <td>NaN</td>\n",
       "      <td>NaN</td>\n",
       "      <td>NaN</td>\n",
       "      <td>NaN</td>\n",
       "    </tr>\n",
       "    <tr>\n",
       "      <th>Uzbekistan</th>\n",
       "      <td>34232050</td>\n",
       "      <td>0.189193</td>\n",
       "      <td>False</td>\n",
       "      <td>NaN</td>\n",
       "      <td>NaN</td>\n",
       "      <td>2580.000</td>\n",
       "      <td>0.046570</td>\n",
       "      <td>NaN</td>\n",
       "      <td>NaN</td>\n",
       "      <td>2820.00</td>\n",
       "      <td>0.050903</td>\n",
       "      <td>NaN</td>\n",
       "      <td>NaN</td>\n",
       "      <td>NaN</td>\n",
       "      <td>NaN</td>\n",
       "      <td>NaN</td>\n",
       "      <td>NaN</td>\n",
       "    </tr>\n",
       "    <tr>\n",
       "      <th>Vanuatu</th>\n",
       "      <td>307150</td>\n",
       "      <td>0.292789</td>\n",
       "      <td>False</td>\n",
       "      <td>NaN</td>\n",
       "      <td>NaN</td>\n",
       "      <td>8.910</td>\n",
       "      <td>0.133784</td>\n",
       "      <td>NaN</td>\n",
       "      <td>NaN</td>\n",
       "      <td>5.53</td>\n",
       "      <td>0.083033</td>\n",
       "      <td>NaN</td>\n",
       "      <td>NaN</td>\n",
       "      <td>NaN</td>\n",
       "      <td>NaN</td>\n",
       "      <td>NaN</td>\n",
       "      <td>NaN</td>\n",
       "    </tr>\n",
       "    <tr>\n",
       "      <th>Zambia</th>\n",
       "      <td>18383956</td>\n",
       "      <td>0.333241</td>\n",
       "      <td>False</td>\n",
       "      <td>NaN</td>\n",
       "      <td>NaN</td>\n",
       "      <td>363.000</td>\n",
       "      <td>0.025118</td>\n",
       "      <td>NaN</td>\n",
       "      <td>NaN</td>\n",
       "      <td>5582.00</td>\n",
       "      <td>0.386244</td>\n",
       "      <td>NaN</td>\n",
       "      <td>NaN</td>\n",
       "      <td>NaN</td>\n",
       "      <td>NaN</td>\n",
       "      <td>NaN</td>\n",
       "      <td>NaN</td>\n",
       "    </tr>\n",
       "    <tr>\n",
       "      <th>Zimbabwe</th>\n",
       "      <td>14862927</td>\n",
       "      <td>0.130350</td>\n",
       "      <td>False</td>\n",
       "      <td>NaN</td>\n",
       "      <td>NaN</td>\n",
       "      <td>374.000</td>\n",
       "      <td>0.037314</td>\n",
       "      <td>NaN</td>\n",
       "      <td>NaN</td>\n",
       "      <td>-70.00</td>\n",
       "      <td>-0.006984</td>\n",
       "      <td>NaN</td>\n",
       "      <td>NaN</td>\n",
       "      <td>NaN</td>\n",
       "      <td>NaN</td>\n",
       "      <td>NaN</td>\n",
       "      <td>NaN</td>\n",
       "    </tr>\n",
       "  </tbody>\n",
       "</table>\n",
       "<p>173 rows × 17 columns</p>\n",
       "</div>"
      ],
      "text/plain": [
       "               population  population_rel_inc_2004_2014 is_co2market_2009  \\\n",
       "Afghanistan      38928341                      0.349586             False   \n",
       "Algeria          43851043                      0.190613             False   \n",
       "American Samoa      55197                     -0.065227             False   \n",
       "Andorra             77265                      0.038859             False   \n",
       "Angola           32866268                      0.436271             False   \n",
       "...                   ...                           ...               ...   \n",
       "Uruguay           3473727                      0.023770             False   \n",
       "Uzbekistan       34232050                      0.189193             False   \n",
       "Vanuatu            307150                      0.292789             False   \n",
       "Zambia           18383956                      0.333241             False   \n",
       "Zimbabwe         14862927                      0.130350             False   \n",
       "\n",
       "                solar_electricity_inc_2004_2014  \\\n",
       "Afghanistan                                 NaN   \n",
       "Algeria                                     NaN   \n",
       "American Samoa                              NaN   \n",
       "Andorra                                     NaN   \n",
       "Angola                                      NaN   \n",
       "...                                         ...   \n",
       "Uruguay                                     NaN   \n",
       "Uzbekistan                                  NaN   \n",
       "Vanuatu                                     NaN   \n",
       "Zambia                                      NaN   \n",
       "Zimbabwe                                    NaN   \n",
       "\n",
       "                solar_electricity_rel_inc_2004_2014  \\\n",
       "Afghanistan                                     NaN   \n",
       "Algeria                                         NaN   \n",
       "American Samoa                                  NaN   \n",
       "Andorra                                         NaN   \n",
       "Angola                                          NaN   \n",
       "...                                             ...   \n",
       "Uruguay                                         NaN   \n",
       "Uzbekistan                                      NaN   \n",
       "Vanuatu                                         NaN   \n",
       "Zambia                                          NaN   \n",
       "Zimbabwe                                        NaN   \n",
       "\n",
       "                thermal_electricity_inc_2004_2014  \\\n",
       "Afghanistan                               -61.000   \n",
       "Algeria                                 32989.000   \n",
       "American Samoa                            -32.255   \n",
       "Andorra                                    12.400   \n",
       "Angola                                   3949.000   \n",
       "...                                           ...   \n",
       "Uruguay                                  1504.000   \n",
       "Uzbekistan                               2580.000   \n",
       "Vanuatu                                     8.910   \n",
       "Zambia                                    363.000   \n",
       "Zimbabwe                                  374.000   \n",
       "\n",
       "                thermal_electricity_rel_inc_2004_2014  \\\n",
       "Afghanistan                                 -0.058134   \n",
       "Algeria                                      0.513511   \n",
       "American Samoa                              -0.205518   \n",
       "Andorra                                      0.097792   \n",
       "Angola                                       0.416561   \n",
       "...                                               ...   \n",
       "Uruguay                                      0.115620   \n",
       "Uzbekistan                                   0.046570   \n",
       "Vanuatu                                      0.133784   \n",
       "Zambia                                       0.025118   \n",
       "Zimbabwe                                     0.037314   \n",
       "\n",
       "                geothermal_inc_2004_2014  geothermal_rel_inc_2004_2014  \\\n",
       "Afghanistan                          NaN                           NaN   \n",
       "Algeria                              NaN                           NaN   \n",
       "American Samoa                       NaN                           NaN   \n",
       "Andorra                              NaN                           NaN   \n",
       "Angola                               NaN                           NaN   \n",
       "...                                  ...                           ...   \n",
       "Uruguay                              NaN                           NaN   \n",
       "Uzbekistan                           NaN                           NaN   \n",
       "Vanuatu                              NaN                           NaN   \n",
       "Zambia                               NaN                           NaN   \n",
       "Zimbabwe                             NaN                           NaN   \n",
       "\n",
       "                hydro_inc_2004_2014  hydro_rel_inc_2004_2014  \\\n",
       "Afghanistan                  330.30                 0.314781   \n",
       "Algeria                        3.00                 0.000047   \n",
       "American Samoa                  NaN                      NaN   \n",
       "Andorra                       20.40                 0.160883   \n",
       "Angola                      3291.00                 0.347152   \n",
       "...                             ...                      ...   \n",
       "Uruguay                     4869.10                 0.374313   \n",
       "Uzbekistan                  2820.00                 0.050903   \n",
       "Vanuatu                        5.53                 0.083033   \n",
       "Zambia                      5582.00                 0.386244   \n",
       "Zimbabwe                     -70.00                -0.006984   \n",
       "\n",
       "                wind_electricity_inc_2004_2014  \\\n",
       "Afghanistan                                NaN   \n",
       "Algeria                                    NaN   \n",
       "American Samoa                             NaN   \n",
       "Andorra                                    NaN   \n",
       "Angola                                     NaN   \n",
       "...                                        ...   \n",
       "Uruguay                                    NaN   \n",
       "Uzbekistan                                 NaN   \n",
       "Vanuatu                                    NaN   \n",
       "Zambia                                     NaN   \n",
       "Zimbabwe                                   NaN   \n",
       "\n",
       "                wind_electricity_rel_inc_2004_2014  \\\n",
       "Afghanistan                                    NaN   \n",
       "Algeria                                        NaN   \n",
       "American Samoa                                 NaN   \n",
       "Andorra                                        NaN   \n",
       "Angola                                         NaN   \n",
       "...                                            ...   \n",
       "Uruguay                                        NaN   \n",
       "Uzbekistan                                     NaN   \n",
       "Vanuatu                                        NaN   \n",
       "Zambia                                         NaN   \n",
       "Zimbabwe                                       NaN   \n",
       "\n",
       "                nuclear_electricity_inc_2004_2014  \\\n",
       "Afghanistan                                   NaN   \n",
       "Algeria                                       NaN   \n",
       "American Samoa                                NaN   \n",
       "Andorra                                       NaN   \n",
       "Angola                                        NaN   \n",
       "...                                           ...   \n",
       "Uruguay                                       NaN   \n",
       "Uzbekistan                                    NaN   \n",
       "Vanuatu                                       NaN   \n",
       "Zambia                                        NaN   \n",
       "Zimbabwe                                      NaN   \n",
       "\n",
       "                nuclear_electricity_rel_inc_2004_2014 marine_inc_2004_2014  \\\n",
       "Afghanistan                                       NaN                  NaN   \n",
       "Algeria                                           NaN                  NaN   \n",
       "American Samoa                                    NaN                  NaN   \n",
       "Andorra                                           NaN                  NaN   \n",
       "Angola                                            NaN                  NaN   \n",
       "...                                               ...                  ...   \n",
       "Uruguay                                           NaN                  NaN   \n",
       "Uzbekistan                                        NaN                  NaN   \n",
       "Vanuatu                                           NaN                  NaN   \n",
       "Zambia                                            NaN                  NaN   \n",
       "Zimbabwe                                          NaN                  NaN   \n",
       "\n",
       "               marine_rel_inc_2004_2014  \n",
       "Afghanistan                         NaN  \n",
       "Algeria                             NaN  \n",
       "American Samoa                      NaN  \n",
       "Andorra                             NaN  \n",
       "Angola                              NaN  \n",
       "...                                 ...  \n",
       "Uruguay                             NaN  \n",
       "Uzbekistan                          NaN  \n",
       "Vanuatu                             NaN  \n",
       "Zambia                              NaN  \n",
       "Zimbabwe                            NaN  \n",
       "\n",
       "[173 rows x 17 columns]"
      ]
     },
     "execution_count": 122,
     "metadata": {},
     "output_type": "execute_result"
    }
   ],
   "source": [
    "df_all"
   ]
  },
  {
   "cell_type": "markdown",
   "id": "6b279b24",
   "metadata": {},
   "source": [
    "Now, we are going to group renewable and non renewable energies, and add it to our dataset, dropping the original columns."
   ]
  },
  {
   "cell_type": "code",
   "execution_count": 123,
   "id": "6443742f",
   "metadata": {},
   "outputs": [],
   "source": [
    "columns_inc_renewable = [\n",
    "    'solar_electricity_inc_' + str(from_year) + '_' + str(to_year),\n",
    "    'hydro_inc_' + str(from_year) + '_' + str(to_year),\n",
    "    'wind_electricity_inc_' + str(from_year) + '_' + str(to_year),\n",
    "    'geothermal_inc_' + str(from_year) + '_' + str(to_year),\n",
    "    'marine_inc_' + str(from_year) + '_' + str(to_year)\n",
    "]\n",
    "\n",
    "columns_inc_non_renewable = [\n",
    "    'thermal_electricity_inc_' + str(from_year) + '_' + str(to_year),\n",
    "    'nuclear_electricity_inc_' + str(from_year) + '_' + str(to_year)\n",
    "]\n",
    "\n",
    "columns_rel_inc_renewable = [\n",
    "    'solar_electricity_rel_inc_' + str(from_year) + '_' + str(to_year),\n",
    "    'hydro_rel_inc_' + str(from_year) + '_' + str(to_year),\n",
    "    'wind_electricity_rel_inc_' + str(from_year) + '_' + str(to_year),\n",
    "    'geothermal_rel_inc_' + str(from_year) + '_' + str(to_year),\n",
    "    'marine_rel_inc_' + str(from_year) + '_' + str(to_year)\n",
    "]\n",
    "\n",
    "columns_rel_inc_non_renewable = [\n",
    "    'thermal_electricity_rel_inc_' + str(from_year) + '_' + str(to_year),\n",
    "    'nuclear_electricity_rel_inc_' + str(from_year) + '_' + str(to_year)\n",
    "]\n",
    "\n",
    "\n",
    "#df_all['renewable_rel_inc_2004_2014'] = df_all[columns_rel_inc_renewable].sum(axis=1)\n",
    "df_all['renewable_inc_' + str(from_year) + '_' + str(to_year)] = \\\n",
    "                        df_all[columns_inc_renewable].sum(axis=1)\n",
    "\n",
    "\n",
    "\n",
    "df_all = df_all.drop(columns_inc_renewable, axis=1)\n",
    "df_all = df_all.drop(columns_inc_non_renewable, axis=1)\n",
    "df_all = df_all.drop(columns_rel_inc_renewable, axis=1)\n",
    "df_all = df_all.drop(columns_rel_inc_non_renewable, axis=1)\n"
   ]
  },
  {
   "cell_type": "markdown",
   "id": "4dd56019",
   "metadata": {},
   "source": [
    "This is how our dataframe looks like:"
   ]
  },
  {
   "cell_type": "code",
   "execution_count": 124,
   "id": "de4ec314",
   "metadata": {},
   "outputs": [
    {
     "data": {
      "text/html": [
       "<div>\n",
       "<style scoped>\n",
       "    .dataframe tbody tr th:only-of-type {\n",
       "        vertical-align: middle;\n",
       "    }\n",
       "\n",
       "    .dataframe tbody tr th {\n",
       "        vertical-align: top;\n",
       "    }\n",
       "\n",
       "    .dataframe thead th {\n",
       "        text-align: right;\n",
       "    }\n",
       "</style>\n",
       "<table border=\"1\" class=\"dataframe\">\n",
       "  <thead>\n",
       "    <tr style=\"text-align: right;\">\n",
       "      <th></th>\n",
       "      <th>population</th>\n",
       "      <th>population_rel_inc_2004_2014</th>\n",
       "      <th>is_co2market_2009</th>\n",
       "      <th>renewable_inc_2004_2014</th>\n",
       "    </tr>\n",
       "  </thead>\n",
       "  <tbody>\n",
       "    <tr>\n",
       "      <th>Afghanistan</th>\n",
       "      <td>38928341</td>\n",
       "      <td>0.349586</td>\n",
       "      <td>False</td>\n",
       "      <td>330.3</td>\n",
       "    </tr>\n",
       "    <tr>\n",
       "      <th>Algeria</th>\n",
       "      <td>43851043</td>\n",
       "      <td>0.190613</td>\n",
       "      <td>False</td>\n",
       "      <td>3.0</td>\n",
       "    </tr>\n",
       "    <tr>\n",
       "      <th>American Samoa</th>\n",
       "      <td>55197</td>\n",
       "      <td>-0.065227</td>\n",
       "      <td>False</td>\n",
       "      <td>0.0</td>\n",
       "    </tr>\n",
       "    <tr>\n",
       "      <th>Andorra</th>\n",
       "      <td>77265</td>\n",
       "      <td>0.038859</td>\n",
       "      <td>False</td>\n",
       "      <td>20.4</td>\n",
       "    </tr>\n",
       "    <tr>\n",
       "      <th>Angola</th>\n",
       "      <td>32866268</td>\n",
       "      <td>0.436271</td>\n",
       "      <td>False</td>\n",
       "      <td>3291.0</td>\n",
       "    </tr>\n",
       "  </tbody>\n",
       "</table>\n",
       "</div>"
      ],
      "text/plain": [
       "               population  population_rel_inc_2004_2014 is_co2market_2009  \\\n",
       "Afghanistan      38928341                      0.349586             False   \n",
       "Algeria          43851043                      0.190613             False   \n",
       "American Samoa      55197                     -0.065227             False   \n",
       "Andorra             77265                      0.038859             False   \n",
       "Angola           32866268                      0.436271             False   \n",
       "\n",
       "                renewable_inc_2004_2014  \n",
       "Afghanistan                       330.3  \n",
       "Algeria                             3.0  \n",
       "American Samoa                      0.0  \n",
       "Andorra                            20.4  \n",
       "Angola                           3291.0  "
      ]
     },
     "execution_count": 124,
     "metadata": {},
     "output_type": "execute_result"
    }
   ],
   "source": [
    "df_all.head()"
   ]
  },
  {
   "cell_type": "markdown",
   "id": "5abed3a0",
   "metadata": {},
   "source": [
    "And finally we can apply a linear model to see the influence of each factor on the increment of renewable energy:"
   ]
  },
  {
   "cell_type": "markdown",
   "id": "35a23e95",
   "metadata": {},
   "source": [
    "## Data modeling"
   ]
  },
  {
   "cell_type": "code",
   "execution_count": 125,
   "id": "4d2be1a5",
   "metadata": {},
   "outputs": [],
   "source": [
    "response_col = 'renewable_inc_' + str(from_year) + '_' + str(to_year)\n",
    "test_size = 0.3\n",
    "rand_state=24\n",
    "df_all_clean= df_all.dropna()\n",
    "X = df_all_clean.drop(response_col, axis=1)\n",
    "y = df_all_clean['renewable_inc_' + str(from_year) + '_' + str(to_year)]\n",
    "X_train, X_test, y_train, y_test = train_test_split(X,y,test_size=test_size,random_state=rand_state)\n",
    "lm_model = LinearRegression(normalize = True)\n",
    "lm_model.fit(X_train, y_train)\n",
    "y_train_pred = lm_model.predict(X_train)\n",
    "X_train\n",
    "y_test_pred = lm_model.predict(X_test)\n",
    "test_score = r2_score(y_test,y_test_pred)\n",
    "train_score = r2_score(y_train,y_train_pred)"
   ]
  },
  {
   "cell_type": "code",
   "execution_count": 126,
   "id": "3c0bb711",
   "metadata": {},
   "outputs": [
    {
     "data": {
      "text/plain": [
       "0.4361140153594091"
      ]
     },
     "execution_count": 126,
     "metadata": {},
     "output_type": "execute_result"
    }
   ],
   "source": [
    "test_score"
   ]
  },
  {
   "cell_type": "code",
   "execution_count": 127,
   "id": "28a56a65",
   "metadata": {},
   "outputs": [
    {
     "data": {
      "text/plain": [
       "0.5793789331448926"
      ]
     },
     "execution_count": 127,
     "metadata": {},
     "output_type": "execute_result"
    }
   ],
   "source": [
    "train_score"
   ]
  },
  {
   "cell_type": "markdown",
   "id": "f33fd882",
   "metadata": {},
   "source": [
    "Our train and test scores are very similar, but quite low. However, this doesn't mean that the model is not significant."
   ]
  },
  {
   "cell_type": "code",
   "execution_count": 128,
   "id": "b8851cb1",
   "metadata": {},
   "outputs": [
    {
     "data": {
      "text/plain": [
       "Index(['population', 'population_rel_inc_2004_2014', 'is_co2market_2009'], dtype='object')"
      ]
     },
     "execution_count": 128,
     "metadata": {},
     "output_type": "execute_result"
    }
   ],
   "source": [
    "X_train.columns"
   ]
  },
  {
   "cell_type": "code",
   "execution_count": 129,
   "id": "74aca2ee",
   "metadata": {},
   "outputs": [],
   "source": [
    "lm_coefs = lm_model.coef_"
   ]
  },
  {
   "cell_type": "markdown",
   "id": "96cd6216",
   "metadata": {},
   "source": [
    "Instead of looking directly at the coefficients we are going to weigh them by the standard deviation, so that we can compare them on the same basis:"
   ]
  },
  {
   "cell_type": "code",
   "execution_count": 130,
   "id": "491dfd34",
   "metadata": {},
   "outputs": [
    {
     "name": "stdout",
     "output_type": "stream",
     "text": [
      "coeff1 * std1: 42833.01228375654\n"
     ]
    }
   ],
   "source": [
    "print('coeff1 * std1: ' + str(lm_model.coef_[0]*X['population'].values.astype(int).std()))"
   ]
  },
  {
   "cell_type": "code",
   "execution_count": 131,
   "id": "248b3142",
   "metadata": {},
   "outputs": [
    {
     "name": "stdout",
     "output_type": "stream",
     "text": [
      "coeff2 * std2: -3071.4046125818086\n"
     ]
    }
   ],
   "source": [
    "print('coeff2 * std2: ' + str(lm_model.coef_[1]*X['population_rel_inc_' + str(from_year) \\\n",
    "                                + '_' + str(to_year)].values.astype(int).max()))"
   ]
  },
  {
   "cell_type": "code",
   "execution_count": 132,
   "id": "fe92c749",
   "metadata": {},
   "outputs": [
    {
     "name": "stdout",
     "output_type": "stream",
     "text": [
      "coeff3 * std3: 16250.84846659304\n"
     ]
    }
   ],
   "source": [
    "print('coeff3 * std3: ' + str(lm_model.coef_[2]*X['is_co2market_' + str(middle_year)]. \\\n",
    "                              values.astype(int).max()))"
   ]
  },
  {
   "cell_type": "markdown",
   "id": "d00f1e46",
   "metadata": {},
   "source": [
    "From this coefficients we can extract the following conclusions: \n",
    "- Larger populations tend to have more renewable energy production. This is the most important factor.\n",
    "- Having a CO2 market does seem to have a great impact, showing greater increases in renewable energy production.\n",
    "- Big population growth correlates with a tendency to have less renewable energy production. However this factor is the weakest in our model."
   ]
  },
  {
   "cell_type": "markdown",
   "id": "0924bc08",
   "metadata": {},
   "source": [
    "# "
   ]
  }
 ],
 "metadata": {
  "kernelspec": {
   "display_name": "Python 3",
   "language": "python",
   "name": "python3"
  },
  "language_info": {
   "codemirror_mode": {
    "name": "ipython",
    "version": 3
   },
   "file_extension": ".py",
   "mimetype": "text/x-python",
   "name": "python",
   "nbconvert_exporter": "python",
   "pygments_lexer": "ipython3",
   "version": "3.6.9"
  }
 },
 "nbformat": 4,
 "nbformat_minor": 5
}
